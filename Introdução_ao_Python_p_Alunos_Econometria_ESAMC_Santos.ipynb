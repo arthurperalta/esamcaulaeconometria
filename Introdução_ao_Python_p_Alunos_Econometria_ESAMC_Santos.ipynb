{
  "nbformat": 4,
  "nbformat_minor": 0,
  "metadata": {
    "colab": {
      "name": "Introdução ao Python p/ Alunos Econometria ESAMC Santos",
      "provenance": [],
      "collapsed_sections": [],
      "authorship_tag": "ABX9TyP4CPjYlOBkU7D3kkpJ29iq",
      "include_colab_link": true
    },
    "kernelspec": {
      "name": "python3",
      "display_name": "Python 3"
    }
  },
  "cells": [
    {
      "cell_type": "markdown",
      "metadata": {
        "id": "view-in-github",
        "colab_type": "text"
      },
      "source": [
        "<a href=\"https://colab.research.google.com/github/arthurperalta/esamcaulaeconometria/blob/master/Introdu%C3%A7%C3%A3o_ao_Python_p_Alunos_Econometria_ESAMC_Santos.ipynb\" target=\"_parent\"><img src=\"https://colab.research.google.com/assets/colab-badge.svg\" alt=\"Open In Colab\"/></a>"
      ]
    },
    {
      "cell_type": "markdown",
      "metadata": {
        "id": "Be8v81JVP5Va"
      },
      "source": [
        "#**Introdução ao Python**\n",
        "Meu nome é Arthur Peralta ([LinkedIn](https://www.linkedin.com/in/arthurperalta/)), tenho 23 anos e estou no último semestre do curso de Ciências Econômicas da Universidade ESAMC Santos.\n",
        "\n",
        "A pedido do Professor Ricardo Candido, hoje irei dar uma breve introdução do Python e como ele pode ser utilizado para análise de dados e para criação de modelos de regressão.\n",
        "###**O que é Python?**\n",
        "Python é uma linguagem de programação de alto nível classificada como uma linguagem orientada a objetos.\n",
        "\n",
        "Pode ser utilizada tanto para desenvolvimento de softwares, aplicativos, como também para análises estatísticas e inteligência artifical. \n",
        "\n",
        "###**Eu preciso comprar o Python?**\n",
        "Não, você não precisa comprar o Python. Ao contrário de outras grandes linguagens estatísticas como SAS e STATA, o Python é totalmente open source, em português isso significa que o Python além de grátis, também é liberado para outras pessoas criarem bibliotecas e deixar a disposição para facilitar a todos. E é por isso que essa ferramenta é tão forte e utilizada por todos, pois a comunidade está sempre produzindo bibliotecas que facilitam cada vez mais o trabalho tanto de desenvolvedores como de analistas, entre os presentes na comunidade temos como exemplo o Google, com o TensorFlow, uma biblioteca completa de Inteligência Artificial e o Facebook, com o Prophet, uma biblioteca de séries temporais.\n",
        "\n",
        "###**Treta do século XXI entre os analistas, R ou Python?**\n",
        "Ambos são ferramentes open source, ambos possuem diversas bibliotecas para diversos fins e então qual escolho?\n",
        "\n",
        "Vamos lá, o R foi criado para ser uma ferramenta estatística, e por isso é preferido na academia. Já o Python é uma linguagem criada para desenvolvimento que foi adaptada, com a criação de bibliotecas com esse fim, para análise estatística.\n",
        "\n",
        "**Então o R é melhor que o Python?**\n",
        "\n",
        "Sim e não. O R leva vantagem sobre o Python no quesito análise estatísticas mais aprofundadas, porém, nos dias de hoje, o analista tem que apresentar uma solução completa e para isso necessita de além de habilidades de análises de dados, também de desenvolvimento para a entrega da solução. Para entregar uma solução completa, o Python, por ser uma linguagem de desenvolvimento, leva uma vantagem imensa sobre o R, e por isso ele é o preferido hoje no mercado de trabalho.\n",
        "\n",
        "###**Nunca programei na vida, é muito difícil começar?**\n",
        "\n",
        "Bom, no início é um pouco, são diversas bibliotecas, diversos comandos, diversas opções e muita, mas muita, variedade.\n",
        "\n",
        "Então Arthur, me ajuda, como eu começo?\n",
        "\n",
        "O que me ajudou muito no início, foram dois livros¹ e muita mas muita prática. Não adianta, você não consegue aprender programação sem ter um perfil mão na massa, você só aprende fazendo, repetindo, repetindo e repetindo mais ainda.\n",
        "E sobre decorar os comandos? Esqueça isso, isso você vai pegando com o tempo, entenda o que você está fazendo e quando precisar saber qual comando faz o que você quer fazer, procure no google (*sempre em inglês*), há sites como o *stackoverflow* que salvam a vida tanto dos júniors quanto do sêniors. E se lá não tiver, lembre-se do que eu vou dizer agora: **A DOCUMENTAÇÃO DA BIBLIOTECA É SUA MELHOR AMIGA**, lá há tudo que você precisa, exemplos e passo a passo para executar cada célula. O único contra é que é tudo em **Inglês**, mas se você não souber, não tem desculpas, o *google translator* vai te auxiliar muito.\n",
        "\n",
        "\n",
        "\n",
        "¹ O nome dos livros serão disponibilizados nas referências no final do notebook\n"
      ]
    },
    {
      "cell_type": "markdown",
      "metadata": {
        "id": "xyArqb2MWEzc"
      },
      "source": [
        "#**Aquecimento - Começando a executar os comandos**\n",
        "Bom, agora que já entendemos melhor o Python, vamos começar a por a mão na massa. Seria muito importante que vocês acompanhassem o código junto comigo, escrevendo o código em seu próprio *google colab*, pois assim o conteúdo consegue fixar de forma mais rápida.\n",
        "\n",
        "###**Iniciando em Python**\n",
        "Para não perder o legado de toda a linguagem de programação, a primeira coisa que iremos fazer é o famosa *Hello, World!*.\n",
        "\n",
        "Porém antes vou explicar o conceito de variável no Python.\n",
        "\n",
        "De forma explicável e de fácil entendimento, uma variável é uma palavra que a gente escreve e por trás dela há uma atribuição para o Python executar.\n",
        "\n",
        "Vamos criar uma variável e atribuir uma saída com o famoso *Hello, World!* para melhor entedimento.\n",
        "\n",
        "Vamos colocar a palavra \"econometria\" com a atribuição de nos mostrar a saída que queremos."
      ]
    },
    {
      "cell_type": "code",
      "metadata": {
        "id": "4DYany5laBM4"
      },
      "source": [
        "econometria = \"Hello, World!\""
      ],
      "execution_count": 2,
      "outputs": []
    },
    {
      "cell_type": "markdown",
      "metadata": {
        "id": "lU6flmgfaaRE"
      },
      "source": [
        "Criamos a nossa varíavel \"econometria\", vimos que não obtivemos nenhuma saída, mas apareceu um número entre [  ] ali na esquerda, o que demonstra que funcionou.\n",
        "\n",
        "OBS: Colocamos o *Hello, World!* entre aspas pois ele é um texto e todo texto deve ser colocado em aspas, ou o Python entenderá que você está querendo o valor de uma variável, porém não temos nenhuma variável criada com o nome de *Hello, World!* o que nos levaria a um erro.\n",
        "\n",
        "Agora vamos imprimir a variável para ver se ela dará a saída que queremos."
      ]
    },
    {
      "cell_type": "code",
      "metadata": {
        "id": "NwoRynZxaQC_",
        "outputId": "e93cb78f-0bbe-416c-a21a-fad1aa99dc68",
        "colab": {
          "base_uri": "https://localhost:8080/",
          "height": 35
        }
      },
      "source": [
        "econometria"
      ],
      "execution_count": 3,
      "outputs": [
        {
          "output_type": "execute_result",
          "data": {
            "application/vnd.google.colaboratory.intrinsic+json": {
              "type": "string"
            },
            "text/plain": [
              "'Hello, World!'"
            ]
          },
          "metadata": {
            "tags": []
          },
          "execution_count": 3
        }
      ]
    },
    {
      "cell_type": "markdown",
      "metadata": {
        "id": "sHCk7qn3bHMn"
      },
      "source": [
        "Maravilha, deu exatamente o resultado que esperavámos.\n",
        "\n",
        "Agora que entendemos o contexto de variável, podemos avançar mais um pouco.\n",
        "\n",
        "Podemos criar uma opção mais personalizada e para isso teremos que criar 3 variáveis, cada qual com uma função, que terão os resultados com base nos valores que você passar a elas em algumas perguntas. Como assim, Arthur?\n",
        "\n",
        "Vou mostrar à vocês."
      ]
    },
    {
      "cell_type": "code",
      "metadata": {
        "id": "zOGdqn9sb18l",
        "outputId": "fe2341f9-f6c7-42d5-ef51-6f225758435c",
        "colab": {
          "base_uri": "https://localhost:8080/"
        }
      },
      "source": [
        "nome  = input(\"Qual seu nome? \")\n",
        "curso = input(\"Qual seu curso? \")\n",
        "semestre = input(\"Semestre atual? \")\n",
        "\n",
        "print(\"Meu nome é %s, curso %s, \" \\\n",
        "\"e estou no %s semestre.\" % (nome, curso, semestre) )"
      ],
      "execution_count": 4,
      "outputs": [
        {
          "output_type": "stream",
          "text": [
            "Qual seu nome? Arthur\n",
            "Qual seu curso? Ciências Econômicas\n",
            "Semestre atual? 9º\n",
            "Meu nome é Arthur, curso Ciências Econômicas, e estou no 9º semestre.\n"
          ],
          "name": "stdout"
        }
      ]
    },
    {
      "cell_type": "markdown",
      "metadata": {
        "id": "hTom6GeWc8vt"
      },
      "source": [
        "Por ser uma linguagem de programação, podemos fazer inúmeras coisas com ela, mas inúmeras mesmo. Porém o nosso foco aqui é para o básico de análise de dados, então eu vou ensinando com base no que for acontecendo, ok? Espero que sim!!!"
      ]
    },
    {
      "cell_type": "markdown",
      "metadata": {
        "id": "8zLCLI3Yd4Uw"
      },
      "source": [
        "#**1º Passo - Import da biblioteca**\n",
        "Para análise de dados, a biblioteca mais importante é a biblioteca **pandas**, ela traz inúmeras funções para executar o tratamento nos dados.\n",
        "\n",
        "Para importar a biblioteca, devemos colocar *import* e o nome da biblioteca, porém podemos apelidar essa biblioteca para não termos que ficar escrevendo ela a todo tempo. No mercado, a biblioteca pandas é apelidada de **pd**, e importamos ela com esse apelido. Vamos lá."
      ]
    },
    {
      "cell_type": "code",
      "metadata": {
        "id": "Gd-uQ-icdPYU"
      },
      "source": [
        "import pandas as pd"
      ],
      "execution_count": 5,
      "outputs": []
    },
    {
      "cell_type": "markdown",
      "metadata": {
        "id": "Q9lozrhUehNU"
      },
      "source": [
        "#**2º Passo - Import da base de dados**\n",
        "Maravilha, importamos a biblioteca pandas, agora a biblioteca pandas nos traz a opção de importarmos uma base de dados aqui para o nosso notebook, com a função **pd.read_excel**.\n",
        "\n",
        "O que faremos é criar uma variável com uma palvra x e atribuir o valor para ela utilizando a função que o pandas oferece à nós.\n",
        "\n",
        "No mercado, o apelido que damos para base de dados que estamos trabalhando é **df**, que vem da palavra **dataframe**, que em tradução livre, seria o nome dado a nossa tabela, que possui linhas e colunas, assim como no excel.\n",
        "\n",
        "Vamos importar a base de dados que o Prof. Ricardo apresentou para nós em uma de suas aulas, que é a base de dados dos Preços dos imóveis, para facilitar hospedei ela no github, facilitando a importação e não precisando baixa-la para executar esse notebook."
      ]
    },
    {
      "cell_type": "code",
      "metadata": {
        "id": "l1EpDMhBPjas"
      },
      "source": [
        "df = pd.read_excel('https://github.com/arthurperalta/esamcaulaeconometria/blob/master/dados/Aula%204.%20Pre%C3%A7o%20dos%20im%C3%B3veis%20(1).xlsx?raw=true')"
      ],
      "execution_count": 6,
      "outputs": []
    },
    {
      "cell_type": "markdown",
      "metadata": {
        "id": "PDbdJvOMgRqi"
      },
      "source": [
        "Importamos nossa base de dados, e atribuímos o valor a variável, agora vamos colocar a variável e ver se nossa base de dados veio correta."
      ]
    },
    {
      "cell_type": "code",
      "metadata": {
        "id": "t6-Y1MEcgQ1L",
        "outputId": "f3379a4e-c9d0-4d64-ea87-c18c32252d4c",
        "colab": {
          "base_uri": "https://localhost:8080/",
          "height": 1000
        }
      },
      "source": [
        "df"
      ],
      "execution_count": 7,
      "outputs": [
        {
          "output_type": "execute_result",
          "data": {
            "text/html": [
              "<div>\n",
              "<style scoped>\n",
              "    .dataframe tbody tr th:only-of-type {\n",
              "        vertical-align: middle;\n",
              "    }\n",
              "\n",
              "    .dataframe tbody tr th {\n",
              "        vertical-align: top;\n",
              "    }\n",
              "\n",
              "    .dataframe thead th {\n",
              "        text-align: right;\n",
              "    }\n",
              "</style>\n",
              "<table border=\"1\" class=\"dataframe\">\n",
              "  <thead>\n",
              "    <tr style=\"text-align: right;\">\n",
              "      <th></th>\n",
              "      <th>obs</th>\n",
              "      <th>preço</th>\n",
              "      <th>area privada m2</th>\n",
              "      <th>n suites</th>\n",
              "      <th>n quartos</th>\n",
              "      <th>n banheiros</th>\n",
              "      <th>piscina</th>\n",
              "      <th>d_piscina</th>\n",
              "      <th>bairro</th>\n",
              "      <th>d_B</th>\n",
              "      <th>d_C</th>\n",
              "    </tr>\n",
              "  </thead>\n",
              "  <tbody>\n",
              "    <tr>\n",
              "      <th>0</th>\n",
              "      <td>7</td>\n",
              "      <td>311535</td>\n",
              "      <td>64</td>\n",
              "      <td>0</td>\n",
              "      <td>2</td>\n",
              "      <td>1</td>\n",
              "      <td>não</td>\n",
              "      <td>NaN</td>\n",
              "      <td>B</td>\n",
              "      <td>NaN</td>\n",
              "      <td>NaN</td>\n",
              "    </tr>\n",
              "    <tr>\n",
              "      <th>1</th>\n",
              "      <td>4</td>\n",
              "      <td>330048</td>\n",
              "      <td>60</td>\n",
              "      <td>0</td>\n",
              "      <td>2</td>\n",
              "      <td>1</td>\n",
              "      <td>não</td>\n",
              "      <td>NaN</td>\n",
              "      <td>A</td>\n",
              "      <td>NaN</td>\n",
              "      <td>NaN</td>\n",
              "    </tr>\n",
              "    <tr>\n",
              "      <th>2</th>\n",
              "      <td>15</td>\n",
              "      <td>369397</td>\n",
              "      <td>73</td>\n",
              "      <td>1</td>\n",
              "      <td>3</td>\n",
              "      <td>2</td>\n",
              "      <td>não</td>\n",
              "      <td>NaN</td>\n",
              "      <td>B</td>\n",
              "      <td>NaN</td>\n",
              "      <td>NaN</td>\n",
              "    </tr>\n",
              "    <tr>\n",
              "      <th>3</th>\n",
              "      <td>8</td>\n",
              "      <td>389163</td>\n",
              "      <td>68</td>\n",
              "      <td>1</td>\n",
              "      <td>2</td>\n",
              "      <td>1</td>\n",
              "      <td>sim</td>\n",
              "      <td>NaN</td>\n",
              "      <td>A</td>\n",
              "      <td>NaN</td>\n",
              "      <td>NaN</td>\n",
              "    </tr>\n",
              "    <tr>\n",
              "      <th>4</th>\n",
              "      <td>24</td>\n",
              "      <td>394657</td>\n",
              "      <td>86</td>\n",
              "      <td>1</td>\n",
              "      <td>3</td>\n",
              "      <td>2</td>\n",
              "      <td>sim</td>\n",
              "      <td>NaN</td>\n",
              "      <td>B</td>\n",
              "      <td>NaN</td>\n",
              "      <td>NaN</td>\n",
              "    </tr>\n",
              "    <tr>\n",
              "      <th>5</th>\n",
              "      <td>16</td>\n",
              "      <td>394794</td>\n",
              "      <td>80</td>\n",
              "      <td>1</td>\n",
              "      <td>3</td>\n",
              "      <td>2</td>\n",
              "      <td>não</td>\n",
              "      <td>NaN</td>\n",
              "      <td>A</td>\n",
              "      <td>NaN</td>\n",
              "      <td>NaN</td>\n",
              "    </tr>\n",
              "    <tr>\n",
              "      <th>6</th>\n",
              "      <td>19</td>\n",
              "      <td>396933</td>\n",
              "      <td>74</td>\n",
              "      <td>1</td>\n",
              "      <td>2</td>\n",
              "      <td>2</td>\n",
              "      <td>não</td>\n",
              "      <td>NaN</td>\n",
              "      <td>C</td>\n",
              "      <td>NaN</td>\n",
              "      <td>NaN</td>\n",
              "    </tr>\n",
              "    <tr>\n",
              "      <th>7</th>\n",
              "      <td>21</td>\n",
              "      <td>397636</td>\n",
              "      <td>86</td>\n",
              "      <td>0</td>\n",
              "      <td>3</td>\n",
              "      <td>2</td>\n",
              "      <td>sim</td>\n",
              "      <td>NaN</td>\n",
              "      <td>B</td>\n",
              "      <td>NaN</td>\n",
              "      <td>NaN</td>\n",
              "    </tr>\n",
              "    <tr>\n",
              "      <th>8</th>\n",
              "      <td>2</td>\n",
              "      <td>423571</td>\n",
              "      <td>59</td>\n",
              "      <td>0</td>\n",
              "      <td>2</td>\n",
              "      <td>1</td>\n",
              "      <td>não</td>\n",
              "      <td>NaN</td>\n",
              "      <td>B</td>\n",
              "      <td>NaN</td>\n",
              "      <td>NaN</td>\n",
              "    </tr>\n",
              "    <tr>\n",
              "      <th>9</th>\n",
              "      <td>12</td>\n",
              "      <td>424771</td>\n",
              "      <td>74</td>\n",
              "      <td>0</td>\n",
              "      <td>3</td>\n",
              "      <td>1</td>\n",
              "      <td>sim</td>\n",
              "      <td>NaN</td>\n",
              "      <td>A</td>\n",
              "      <td>NaN</td>\n",
              "      <td>NaN</td>\n",
              "    </tr>\n",
              "    <tr>\n",
              "      <th>10</th>\n",
              "      <td>20</td>\n",
              "      <td>425140</td>\n",
              "      <td>80</td>\n",
              "      <td>1</td>\n",
              "      <td>3</td>\n",
              "      <td>2</td>\n",
              "      <td>sim</td>\n",
              "      <td>NaN</td>\n",
              "      <td>C</td>\n",
              "      <td>NaN</td>\n",
              "      <td>NaN</td>\n",
              "    </tr>\n",
              "    <tr>\n",
              "      <th>11</th>\n",
              "      <td>18</td>\n",
              "      <td>426531</td>\n",
              "      <td>70</td>\n",
              "      <td>1</td>\n",
              "      <td>2</td>\n",
              "      <td>2</td>\n",
              "      <td>sim</td>\n",
              "      <td>NaN</td>\n",
              "      <td>C</td>\n",
              "      <td>NaN</td>\n",
              "      <td>NaN</td>\n",
              "    </tr>\n",
              "    <tr>\n",
              "      <th>12</th>\n",
              "      <td>13</td>\n",
              "      <td>426905</td>\n",
              "      <td>76</td>\n",
              "      <td>0</td>\n",
              "      <td>3</td>\n",
              "      <td>1</td>\n",
              "      <td>sim</td>\n",
              "      <td>NaN</td>\n",
              "      <td>C</td>\n",
              "      <td>NaN</td>\n",
              "      <td>NaN</td>\n",
              "    </tr>\n",
              "    <tr>\n",
              "      <th>13</th>\n",
              "      <td>11</td>\n",
              "      <td>433603</td>\n",
              "      <td>73</td>\n",
              "      <td>0</td>\n",
              "      <td>3</td>\n",
              "      <td>2</td>\n",
              "      <td>não</td>\n",
              "      <td>NaN</td>\n",
              "      <td>C</td>\n",
              "      <td>NaN</td>\n",
              "      <td>NaN</td>\n",
              "    </tr>\n",
              "    <tr>\n",
              "      <th>14</th>\n",
              "      <td>1</td>\n",
              "      <td>435445</td>\n",
              "      <td>63</td>\n",
              "      <td>0</td>\n",
              "      <td>2</td>\n",
              "      <td>1</td>\n",
              "      <td>sim</td>\n",
              "      <td>NaN</td>\n",
              "      <td>B</td>\n",
              "      <td>NaN</td>\n",
              "      <td>NaN</td>\n",
              "    </tr>\n",
              "    <tr>\n",
              "      <th>15</th>\n",
              "      <td>3</td>\n",
              "      <td>440425</td>\n",
              "      <td>60</td>\n",
              "      <td>0</td>\n",
              "      <td>2</td>\n",
              "      <td>1</td>\n",
              "      <td>sim</td>\n",
              "      <td>NaN</td>\n",
              "      <td>C</td>\n",
              "      <td>NaN</td>\n",
              "      <td>NaN</td>\n",
              "    </tr>\n",
              "    <tr>\n",
              "      <th>16</th>\n",
              "      <td>9</td>\n",
              "      <td>455657</td>\n",
              "      <td>55</td>\n",
              "      <td>0</td>\n",
              "      <td>1</td>\n",
              "      <td>1</td>\n",
              "      <td>não</td>\n",
              "      <td>NaN</td>\n",
              "      <td>B</td>\n",
              "      <td>NaN</td>\n",
              "      <td>NaN</td>\n",
              "    </tr>\n",
              "    <tr>\n",
              "      <th>17</th>\n",
              "      <td>5</td>\n",
              "      <td>458478</td>\n",
              "      <td>49</td>\n",
              "      <td>1</td>\n",
              "      <td>1</td>\n",
              "      <td>1</td>\n",
              "      <td>não</td>\n",
              "      <td>NaN</td>\n",
              "      <td>C</td>\n",
              "      <td>NaN</td>\n",
              "      <td>NaN</td>\n",
              "    </tr>\n",
              "    <tr>\n",
              "      <th>18</th>\n",
              "      <td>10</td>\n",
              "      <td>462392</td>\n",
              "      <td>63</td>\n",
              "      <td>1</td>\n",
              "      <td>2</td>\n",
              "      <td>1</td>\n",
              "      <td>não</td>\n",
              "      <td>NaN</td>\n",
              "      <td>B</td>\n",
              "      <td>NaN</td>\n",
              "      <td>NaN</td>\n",
              "    </tr>\n",
              "    <tr>\n",
              "      <th>19</th>\n",
              "      <td>6</td>\n",
              "      <td>467407</td>\n",
              "      <td>60</td>\n",
              "      <td>1</td>\n",
              "      <td>2</td>\n",
              "      <td>1</td>\n",
              "      <td>sim</td>\n",
              "      <td>NaN</td>\n",
              "      <td>A</td>\n",
              "      <td>NaN</td>\n",
              "      <td>NaN</td>\n",
              "    </tr>\n",
              "    <tr>\n",
              "      <th>20</th>\n",
              "      <td>14</td>\n",
              "      <td>468538</td>\n",
              "      <td>73</td>\n",
              "      <td>1</td>\n",
              "      <td>3</td>\n",
              "      <td>1</td>\n",
              "      <td>sim</td>\n",
              "      <td>NaN</td>\n",
              "      <td>B</td>\n",
              "      <td>NaN</td>\n",
              "      <td>NaN</td>\n",
              "    </tr>\n",
              "    <tr>\n",
              "      <th>21</th>\n",
              "      <td>23</td>\n",
              "      <td>470420</td>\n",
              "      <td>88</td>\n",
              "      <td>2</td>\n",
              "      <td>3</td>\n",
              "      <td>2</td>\n",
              "      <td>sim</td>\n",
              "      <td>NaN</td>\n",
              "      <td>A</td>\n",
              "      <td>NaN</td>\n",
              "      <td>NaN</td>\n",
              "    </tr>\n",
              "    <tr>\n",
              "      <th>22</th>\n",
              "      <td>17</td>\n",
              "      <td>488812</td>\n",
              "      <td>80</td>\n",
              "      <td>1</td>\n",
              "      <td>3</td>\n",
              "      <td>2</td>\n",
              "      <td>não</td>\n",
              "      <td>NaN</td>\n",
              "      <td>A</td>\n",
              "      <td>NaN</td>\n",
              "      <td>NaN</td>\n",
              "    </tr>\n",
              "    <tr>\n",
              "      <th>23</th>\n",
              "      <td>22</td>\n",
              "      <td>508494</td>\n",
              "      <td>84</td>\n",
              "      <td>1</td>\n",
              "      <td>3</td>\n",
              "      <td>2</td>\n",
              "      <td>sim</td>\n",
              "      <td>NaN</td>\n",
              "      <td>B</td>\n",
              "      <td>NaN</td>\n",
              "      <td>NaN</td>\n",
              "    </tr>\n",
              "    <tr>\n",
              "      <th>24</th>\n",
              "      <td>25</td>\n",
              "      <td>604040</td>\n",
              "      <td>103</td>\n",
              "      <td>2</td>\n",
              "      <td>4</td>\n",
              "      <td>3</td>\n",
              "      <td>sim</td>\n",
              "      <td>NaN</td>\n",
              "      <td>A</td>\n",
              "      <td>NaN</td>\n",
              "      <td>NaN</td>\n",
              "    </tr>\n",
              "    <tr>\n",
              "      <th>25</th>\n",
              "      <td>29</td>\n",
              "      <td>652730</td>\n",
              "      <td>91</td>\n",
              "      <td>0</td>\n",
              "      <td>4</td>\n",
              "      <td>3</td>\n",
              "      <td>sim</td>\n",
              "      <td>NaN</td>\n",
              "      <td>C</td>\n",
              "      <td>NaN</td>\n",
              "      <td>NaN</td>\n",
              "    </tr>\n",
              "    <tr>\n",
              "      <th>26</th>\n",
              "      <td>31</td>\n",
              "      <td>683414</td>\n",
              "      <td>110</td>\n",
              "      <td>2</td>\n",
              "      <td>4</td>\n",
              "      <td>3</td>\n",
              "      <td>sim</td>\n",
              "      <td>NaN</td>\n",
              "      <td>B</td>\n",
              "      <td>NaN</td>\n",
              "      <td>NaN</td>\n",
              "    </tr>\n",
              "    <tr>\n",
              "      <th>27</th>\n",
              "      <td>27</td>\n",
              "      <td>692220</td>\n",
              "      <td>105</td>\n",
              "      <td>3</td>\n",
              "      <td>4</td>\n",
              "      <td>3</td>\n",
              "      <td>sim</td>\n",
              "      <td>NaN</td>\n",
              "      <td>A</td>\n",
              "      <td>NaN</td>\n",
              "      <td>NaN</td>\n",
              "    </tr>\n",
              "    <tr>\n",
              "      <th>28</th>\n",
              "      <td>26</td>\n",
              "      <td>712397</td>\n",
              "      <td>90</td>\n",
              "      <td>2</td>\n",
              "      <td>3</td>\n",
              "      <td>2</td>\n",
              "      <td>sim</td>\n",
              "      <td>NaN</td>\n",
              "      <td>C</td>\n",
              "      <td>NaN</td>\n",
              "      <td>NaN</td>\n",
              "    </tr>\n",
              "    <tr>\n",
              "      <th>29</th>\n",
              "      <td>30</td>\n",
              "      <td>714341</td>\n",
              "      <td>100</td>\n",
              "      <td>2</td>\n",
              "      <td>4</td>\n",
              "      <td>3</td>\n",
              "      <td>sim</td>\n",
              "      <td>NaN</td>\n",
              "      <td>C</td>\n",
              "      <td>NaN</td>\n",
              "      <td>NaN</td>\n",
              "    </tr>\n",
              "    <tr>\n",
              "      <th>30</th>\n",
              "      <td>28</td>\n",
              "      <td>718342</td>\n",
              "      <td>89</td>\n",
              "      <td>0</td>\n",
              "      <td>4</td>\n",
              "      <td>2</td>\n",
              "      <td>sim</td>\n",
              "      <td>NaN</td>\n",
              "      <td>A</td>\n",
              "      <td>NaN</td>\n",
              "      <td>NaN</td>\n",
              "    </tr>\n",
              "  </tbody>\n",
              "</table>\n",
              "</div>"
            ],
            "text/plain": [
              "    obs   preço  area privada m2  n suites  ...  d_piscina  bairro d_B  d_C\n",
              "0     7  311535               64         0  ...        NaN       B NaN  NaN\n",
              "1     4  330048               60         0  ...        NaN       A NaN  NaN\n",
              "2    15  369397               73         1  ...        NaN       B NaN  NaN\n",
              "3     8  389163               68         1  ...        NaN       A NaN  NaN\n",
              "4    24  394657               86         1  ...        NaN       B NaN  NaN\n",
              "5    16  394794               80         1  ...        NaN       A NaN  NaN\n",
              "6    19  396933               74         1  ...        NaN       C NaN  NaN\n",
              "7    21  397636               86         0  ...        NaN       B NaN  NaN\n",
              "8     2  423571               59         0  ...        NaN       B NaN  NaN\n",
              "9    12  424771               74         0  ...        NaN       A NaN  NaN\n",
              "10   20  425140               80         1  ...        NaN       C NaN  NaN\n",
              "11   18  426531               70         1  ...        NaN       C NaN  NaN\n",
              "12   13  426905               76         0  ...        NaN       C NaN  NaN\n",
              "13   11  433603               73         0  ...        NaN       C NaN  NaN\n",
              "14    1  435445               63         0  ...        NaN       B NaN  NaN\n",
              "15    3  440425               60         0  ...        NaN       C NaN  NaN\n",
              "16    9  455657               55         0  ...        NaN       B NaN  NaN\n",
              "17    5  458478               49         1  ...        NaN       C NaN  NaN\n",
              "18   10  462392               63         1  ...        NaN       B NaN  NaN\n",
              "19    6  467407               60         1  ...        NaN       A NaN  NaN\n",
              "20   14  468538               73         1  ...        NaN       B NaN  NaN\n",
              "21   23  470420               88         2  ...        NaN       A NaN  NaN\n",
              "22   17  488812               80         1  ...        NaN       A NaN  NaN\n",
              "23   22  508494               84         1  ...        NaN       B NaN  NaN\n",
              "24   25  604040              103         2  ...        NaN       A NaN  NaN\n",
              "25   29  652730               91         0  ...        NaN       C NaN  NaN\n",
              "26   31  683414              110         2  ...        NaN       B NaN  NaN\n",
              "27   27  692220              105         3  ...        NaN       A NaN  NaN\n",
              "28   26  712397               90         2  ...        NaN       C NaN  NaN\n",
              "29   30  714341              100         2  ...        NaN       C NaN  NaN\n",
              "30   28  718342               89         0  ...        NaN       A NaN  NaN\n",
              "\n",
              "[31 rows x 11 columns]"
            ]
          },
          "metadata": {
            "tags": []
          },
          "execution_count": 7
        }
      ]
    },
    {
      "cell_type": "markdown",
      "metadata": {
        "id": "Tl6WTvg-geo2"
      },
      "source": [
        "Maravilha, ai está nossa base de dados, exatamente como no excel.\n",
        "\n",
        "Os valores *NaN* são os valores nulos da tabela, devemos trata-los, faremos isso futuramente.\n",
        "\n",
        "#**3º Passo - Verificando o formato dos dados**\n",
        "Agora assim que importarmos os dados, temos que ver se eles vieram no formato certo para nosso notebook. \n",
        "\n",
        "Vamos fazer isso com a função **info()**.\n",
        "\n",
        "Agora é o pulo do gato, como Python é uma linguagem de programação orientada a objetos, criamos uma variável a qual atribuímos uma função pandas para trazer nosso banco de dados e ela se transformou em objeto da biblioteca pandas, mais especificamente um dataframe. Por ser orientada a objetos, agora que criamos um objeto pandas, podemos colocar o nome da nossa variável, colocar um ponto, e teremos diversas funções da biblioteca pandas, e utilizaremos a função supracitada."
      ]
    },
    {
      "cell_type": "code",
      "metadata": {
        "id": "94kkrJ1wgcFI",
        "outputId": "bf735447-07f5-43af-9828-6c0eec8f3a77",
        "colab": {
          "base_uri": "https://localhost:8080/"
        }
      },
      "source": [
        "df.info()"
      ],
      "execution_count": 8,
      "outputs": [
        {
          "output_type": "stream",
          "text": [
            "<class 'pandas.core.frame.DataFrame'>\n",
            "RangeIndex: 31 entries, 0 to 30\n",
            "Data columns (total 11 columns):\n",
            " #   Column           Non-Null Count  Dtype  \n",
            "---  ------           --------------  -----  \n",
            " 0   obs              31 non-null     int64  \n",
            " 1   preço            31 non-null     int64  \n",
            " 2   area privada m2  31 non-null     int64  \n",
            " 3   n suites         31 non-null     int64  \n",
            " 4   n quartos        31 non-null     int64  \n",
            " 5   n banheiros      31 non-null     int64  \n",
            " 6   piscina          31 non-null     object \n",
            " 7   d_piscina        0 non-null      float64\n",
            " 8   bairro           31 non-null     object \n",
            " 9   d_B              0 non-null      float64\n",
            " 10  d_C              0 non-null      float64\n",
            "dtypes: float64(3), int64(6), object(2)\n",
            "memory usage: 2.8+ KB\n"
          ],
          "name": "stdout"
        }
      ]
    },
    {
      "cell_type": "markdown",
      "metadata": {
        "id": "xvJkSRG9hzj_"
      },
      "source": [
        "Basicamente podemos entender os dados pelo **Dtype** ali na direita, e com os seguintes significados:\n",
        "\n",
        "- int - Números Inteiros;\n",
        "- float - Números com decimais\n",
        "- object:\tTexto"
      ]
    },
    {
      "cell_type": "markdown",
      "metadata": {
        "id": "oBN3yuUGvLKd"
      },
      "source": [
        "Podemos analisar que está tudo certinho, com exceção das colunas que possuem valores nulos, estas estão como *float* quando na verdade elas são nulas, por isso que falei devemos trata-las, pois elas trazem problema para nós.\n",
        "\n",
        "#**4º Passo - Eliminando valores nulos e colunas desnecessárias**\n",
        "\n",
        "Primeiros devemos entender o porquê essas colunas estão nulas. Podemos ver que elas estão nulas pois já elas são variáveis *dummies*, porém faremos de outro modo no python, então para isso iremos excluir essas colunas com valores nulos.\n",
        "\n",
        "Faremos isso com outra função do pandas que nos ajuda demais, **dropna()**.\n",
        "\n",
        "Porém dentro do parênteses teremos que colocar um parâmetro para a função, pois o parâmetro padrão utiliza **axis = 0**. Mas Arthur, o que é isso? o **axis** é um dos parâmetros da função, e o 0 significa linhas, então eles vai olhar por linha e não por coluna os valores nulos, vou demonstrar como ficaria se não colocassemos nenhum parâmetro na função:"
      ]
    },
    {
      "cell_type": "code",
      "metadata": {
        "id": "neCAZ1XbhnpK",
        "outputId": "d1f5ca0c-2abc-432b-a086-fbb621039c59",
        "colab": {
          "base_uri": "https://localhost:8080/",
          "height": 49
        }
      },
      "source": [
        "df.dropna()"
      ],
      "execution_count": 9,
      "outputs": [
        {
          "output_type": "execute_result",
          "data": {
            "text/html": [
              "<div>\n",
              "<style scoped>\n",
              "    .dataframe tbody tr th:only-of-type {\n",
              "        vertical-align: middle;\n",
              "    }\n",
              "\n",
              "    .dataframe tbody tr th {\n",
              "        vertical-align: top;\n",
              "    }\n",
              "\n",
              "    .dataframe thead th {\n",
              "        text-align: right;\n",
              "    }\n",
              "</style>\n",
              "<table border=\"1\" class=\"dataframe\">\n",
              "  <thead>\n",
              "    <tr style=\"text-align: right;\">\n",
              "      <th></th>\n",
              "      <th>obs</th>\n",
              "      <th>preço</th>\n",
              "      <th>area privada m2</th>\n",
              "      <th>n suites</th>\n",
              "      <th>n quartos</th>\n",
              "      <th>n banheiros</th>\n",
              "      <th>piscina</th>\n",
              "      <th>d_piscina</th>\n",
              "      <th>bairro</th>\n",
              "      <th>d_B</th>\n",
              "      <th>d_C</th>\n",
              "    </tr>\n",
              "  </thead>\n",
              "  <tbody>\n",
              "  </tbody>\n",
              "</table>\n",
              "</div>"
            ],
            "text/plain": [
              "Empty DataFrame\n",
              "Columns: [obs, preço, area privada m2, n suites, n quartos, n banheiros, piscina, d_piscina, bairro, d_B, d_C]\n",
              "Index: []"
            ]
          },
          "metadata": {
            "tags": []
          },
          "execution_count": 9
        }
      ]
    },
    {
      "cell_type": "markdown",
      "metadata": {
        "id": "bCstVxfWwUmR"
      },
      "source": [
        "Nossa df ficou totalmente vazio, pois todas as linhas possuem valores nulos, devidos as colunas que estão todas nulas, então temos que mudar o valor desse paramêtro e colocar o **axis** com o valor **1**."
      ]
    },
    {
      "cell_type": "code",
      "metadata": {
        "id": "bGO3ui7mvwSa",
        "outputId": "d77fdc9c-7b37-4efe-d2f5-8ea8ae75802c",
        "colab": {
          "base_uri": "https://localhost:8080/",
          "height": 1000
        }
      },
      "source": [
        "df.dropna(axis = 1)"
      ],
      "execution_count": 10,
      "outputs": [
        {
          "output_type": "execute_result",
          "data": {
            "text/html": [
              "<div>\n",
              "<style scoped>\n",
              "    .dataframe tbody tr th:only-of-type {\n",
              "        vertical-align: middle;\n",
              "    }\n",
              "\n",
              "    .dataframe tbody tr th {\n",
              "        vertical-align: top;\n",
              "    }\n",
              "\n",
              "    .dataframe thead th {\n",
              "        text-align: right;\n",
              "    }\n",
              "</style>\n",
              "<table border=\"1\" class=\"dataframe\">\n",
              "  <thead>\n",
              "    <tr style=\"text-align: right;\">\n",
              "      <th></th>\n",
              "      <th>obs</th>\n",
              "      <th>preço</th>\n",
              "      <th>area privada m2</th>\n",
              "      <th>n suites</th>\n",
              "      <th>n quartos</th>\n",
              "      <th>n banheiros</th>\n",
              "      <th>piscina</th>\n",
              "      <th>bairro</th>\n",
              "    </tr>\n",
              "  </thead>\n",
              "  <tbody>\n",
              "    <tr>\n",
              "      <th>0</th>\n",
              "      <td>7</td>\n",
              "      <td>311535</td>\n",
              "      <td>64</td>\n",
              "      <td>0</td>\n",
              "      <td>2</td>\n",
              "      <td>1</td>\n",
              "      <td>não</td>\n",
              "      <td>B</td>\n",
              "    </tr>\n",
              "    <tr>\n",
              "      <th>1</th>\n",
              "      <td>4</td>\n",
              "      <td>330048</td>\n",
              "      <td>60</td>\n",
              "      <td>0</td>\n",
              "      <td>2</td>\n",
              "      <td>1</td>\n",
              "      <td>não</td>\n",
              "      <td>A</td>\n",
              "    </tr>\n",
              "    <tr>\n",
              "      <th>2</th>\n",
              "      <td>15</td>\n",
              "      <td>369397</td>\n",
              "      <td>73</td>\n",
              "      <td>1</td>\n",
              "      <td>3</td>\n",
              "      <td>2</td>\n",
              "      <td>não</td>\n",
              "      <td>B</td>\n",
              "    </tr>\n",
              "    <tr>\n",
              "      <th>3</th>\n",
              "      <td>8</td>\n",
              "      <td>389163</td>\n",
              "      <td>68</td>\n",
              "      <td>1</td>\n",
              "      <td>2</td>\n",
              "      <td>1</td>\n",
              "      <td>sim</td>\n",
              "      <td>A</td>\n",
              "    </tr>\n",
              "    <tr>\n",
              "      <th>4</th>\n",
              "      <td>24</td>\n",
              "      <td>394657</td>\n",
              "      <td>86</td>\n",
              "      <td>1</td>\n",
              "      <td>3</td>\n",
              "      <td>2</td>\n",
              "      <td>sim</td>\n",
              "      <td>B</td>\n",
              "    </tr>\n",
              "    <tr>\n",
              "      <th>5</th>\n",
              "      <td>16</td>\n",
              "      <td>394794</td>\n",
              "      <td>80</td>\n",
              "      <td>1</td>\n",
              "      <td>3</td>\n",
              "      <td>2</td>\n",
              "      <td>não</td>\n",
              "      <td>A</td>\n",
              "    </tr>\n",
              "    <tr>\n",
              "      <th>6</th>\n",
              "      <td>19</td>\n",
              "      <td>396933</td>\n",
              "      <td>74</td>\n",
              "      <td>1</td>\n",
              "      <td>2</td>\n",
              "      <td>2</td>\n",
              "      <td>não</td>\n",
              "      <td>C</td>\n",
              "    </tr>\n",
              "    <tr>\n",
              "      <th>7</th>\n",
              "      <td>21</td>\n",
              "      <td>397636</td>\n",
              "      <td>86</td>\n",
              "      <td>0</td>\n",
              "      <td>3</td>\n",
              "      <td>2</td>\n",
              "      <td>sim</td>\n",
              "      <td>B</td>\n",
              "    </tr>\n",
              "    <tr>\n",
              "      <th>8</th>\n",
              "      <td>2</td>\n",
              "      <td>423571</td>\n",
              "      <td>59</td>\n",
              "      <td>0</td>\n",
              "      <td>2</td>\n",
              "      <td>1</td>\n",
              "      <td>não</td>\n",
              "      <td>B</td>\n",
              "    </tr>\n",
              "    <tr>\n",
              "      <th>9</th>\n",
              "      <td>12</td>\n",
              "      <td>424771</td>\n",
              "      <td>74</td>\n",
              "      <td>0</td>\n",
              "      <td>3</td>\n",
              "      <td>1</td>\n",
              "      <td>sim</td>\n",
              "      <td>A</td>\n",
              "    </tr>\n",
              "    <tr>\n",
              "      <th>10</th>\n",
              "      <td>20</td>\n",
              "      <td>425140</td>\n",
              "      <td>80</td>\n",
              "      <td>1</td>\n",
              "      <td>3</td>\n",
              "      <td>2</td>\n",
              "      <td>sim</td>\n",
              "      <td>C</td>\n",
              "    </tr>\n",
              "    <tr>\n",
              "      <th>11</th>\n",
              "      <td>18</td>\n",
              "      <td>426531</td>\n",
              "      <td>70</td>\n",
              "      <td>1</td>\n",
              "      <td>2</td>\n",
              "      <td>2</td>\n",
              "      <td>sim</td>\n",
              "      <td>C</td>\n",
              "    </tr>\n",
              "    <tr>\n",
              "      <th>12</th>\n",
              "      <td>13</td>\n",
              "      <td>426905</td>\n",
              "      <td>76</td>\n",
              "      <td>0</td>\n",
              "      <td>3</td>\n",
              "      <td>1</td>\n",
              "      <td>sim</td>\n",
              "      <td>C</td>\n",
              "    </tr>\n",
              "    <tr>\n",
              "      <th>13</th>\n",
              "      <td>11</td>\n",
              "      <td>433603</td>\n",
              "      <td>73</td>\n",
              "      <td>0</td>\n",
              "      <td>3</td>\n",
              "      <td>2</td>\n",
              "      <td>não</td>\n",
              "      <td>C</td>\n",
              "    </tr>\n",
              "    <tr>\n",
              "      <th>14</th>\n",
              "      <td>1</td>\n",
              "      <td>435445</td>\n",
              "      <td>63</td>\n",
              "      <td>0</td>\n",
              "      <td>2</td>\n",
              "      <td>1</td>\n",
              "      <td>sim</td>\n",
              "      <td>B</td>\n",
              "    </tr>\n",
              "    <tr>\n",
              "      <th>15</th>\n",
              "      <td>3</td>\n",
              "      <td>440425</td>\n",
              "      <td>60</td>\n",
              "      <td>0</td>\n",
              "      <td>2</td>\n",
              "      <td>1</td>\n",
              "      <td>sim</td>\n",
              "      <td>C</td>\n",
              "    </tr>\n",
              "    <tr>\n",
              "      <th>16</th>\n",
              "      <td>9</td>\n",
              "      <td>455657</td>\n",
              "      <td>55</td>\n",
              "      <td>0</td>\n",
              "      <td>1</td>\n",
              "      <td>1</td>\n",
              "      <td>não</td>\n",
              "      <td>B</td>\n",
              "    </tr>\n",
              "    <tr>\n",
              "      <th>17</th>\n",
              "      <td>5</td>\n",
              "      <td>458478</td>\n",
              "      <td>49</td>\n",
              "      <td>1</td>\n",
              "      <td>1</td>\n",
              "      <td>1</td>\n",
              "      <td>não</td>\n",
              "      <td>C</td>\n",
              "    </tr>\n",
              "    <tr>\n",
              "      <th>18</th>\n",
              "      <td>10</td>\n",
              "      <td>462392</td>\n",
              "      <td>63</td>\n",
              "      <td>1</td>\n",
              "      <td>2</td>\n",
              "      <td>1</td>\n",
              "      <td>não</td>\n",
              "      <td>B</td>\n",
              "    </tr>\n",
              "    <tr>\n",
              "      <th>19</th>\n",
              "      <td>6</td>\n",
              "      <td>467407</td>\n",
              "      <td>60</td>\n",
              "      <td>1</td>\n",
              "      <td>2</td>\n",
              "      <td>1</td>\n",
              "      <td>sim</td>\n",
              "      <td>A</td>\n",
              "    </tr>\n",
              "    <tr>\n",
              "      <th>20</th>\n",
              "      <td>14</td>\n",
              "      <td>468538</td>\n",
              "      <td>73</td>\n",
              "      <td>1</td>\n",
              "      <td>3</td>\n",
              "      <td>1</td>\n",
              "      <td>sim</td>\n",
              "      <td>B</td>\n",
              "    </tr>\n",
              "    <tr>\n",
              "      <th>21</th>\n",
              "      <td>23</td>\n",
              "      <td>470420</td>\n",
              "      <td>88</td>\n",
              "      <td>2</td>\n",
              "      <td>3</td>\n",
              "      <td>2</td>\n",
              "      <td>sim</td>\n",
              "      <td>A</td>\n",
              "    </tr>\n",
              "    <tr>\n",
              "      <th>22</th>\n",
              "      <td>17</td>\n",
              "      <td>488812</td>\n",
              "      <td>80</td>\n",
              "      <td>1</td>\n",
              "      <td>3</td>\n",
              "      <td>2</td>\n",
              "      <td>não</td>\n",
              "      <td>A</td>\n",
              "    </tr>\n",
              "    <tr>\n",
              "      <th>23</th>\n",
              "      <td>22</td>\n",
              "      <td>508494</td>\n",
              "      <td>84</td>\n",
              "      <td>1</td>\n",
              "      <td>3</td>\n",
              "      <td>2</td>\n",
              "      <td>sim</td>\n",
              "      <td>B</td>\n",
              "    </tr>\n",
              "    <tr>\n",
              "      <th>24</th>\n",
              "      <td>25</td>\n",
              "      <td>604040</td>\n",
              "      <td>103</td>\n",
              "      <td>2</td>\n",
              "      <td>4</td>\n",
              "      <td>3</td>\n",
              "      <td>sim</td>\n",
              "      <td>A</td>\n",
              "    </tr>\n",
              "    <tr>\n",
              "      <th>25</th>\n",
              "      <td>29</td>\n",
              "      <td>652730</td>\n",
              "      <td>91</td>\n",
              "      <td>0</td>\n",
              "      <td>4</td>\n",
              "      <td>3</td>\n",
              "      <td>sim</td>\n",
              "      <td>C</td>\n",
              "    </tr>\n",
              "    <tr>\n",
              "      <th>26</th>\n",
              "      <td>31</td>\n",
              "      <td>683414</td>\n",
              "      <td>110</td>\n",
              "      <td>2</td>\n",
              "      <td>4</td>\n",
              "      <td>3</td>\n",
              "      <td>sim</td>\n",
              "      <td>B</td>\n",
              "    </tr>\n",
              "    <tr>\n",
              "      <th>27</th>\n",
              "      <td>27</td>\n",
              "      <td>692220</td>\n",
              "      <td>105</td>\n",
              "      <td>3</td>\n",
              "      <td>4</td>\n",
              "      <td>3</td>\n",
              "      <td>sim</td>\n",
              "      <td>A</td>\n",
              "    </tr>\n",
              "    <tr>\n",
              "      <th>28</th>\n",
              "      <td>26</td>\n",
              "      <td>712397</td>\n",
              "      <td>90</td>\n",
              "      <td>2</td>\n",
              "      <td>3</td>\n",
              "      <td>2</td>\n",
              "      <td>sim</td>\n",
              "      <td>C</td>\n",
              "    </tr>\n",
              "    <tr>\n",
              "      <th>29</th>\n",
              "      <td>30</td>\n",
              "      <td>714341</td>\n",
              "      <td>100</td>\n",
              "      <td>2</td>\n",
              "      <td>4</td>\n",
              "      <td>3</td>\n",
              "      <td>sim</td>\n",
              "      <td>C</td>\n",
              "    </tr>\n",
              "    <tr>\n",
              "      <th>30</th>\n",
              "      <td>28</td>\n",
              "      <td>718342</td>\n",
              "      <td>89</td>\n",
              "      <td>0</td>\n",
              "      <td>4</td>\n",
              "      <td>2</td>\n",
              "      <td>sim</td>\n",
              "      <td>A</td>\n",
              "    </tr>\n",
              "  </tbody>\n",
              "</table>\n",
              "</div>"
            ],
            "text/plain": [
              "    obs   preço  area privada m2  ...  n banheiros  piscina  bairro\n",
              "0     7  311535               64  ...            1      não       B\n",
              "1     4  330048               60  ...            1      não       A\n",
              "2    15  369397               73  ...            2      não       B\n",
              "3     8  389163               68  ...            1      sim       A\n",
              "4    24  394657               86  ...            2      sim       B\n",
              "5    16  394794               80  ...            2      não       A\n",
              "6    19  396933               74  ...            2      não       C\n",
              "7    21  397636               86  ...            2      sim       B\n",
              "8     2  423571               59  ...            1      não       B\n",
              "9    12  424771               74  ...            1      sim       A\n",
              "10   20  425140               80  ...            2      sim       C\n",
              "11   18  426531               70  ...            2      sim       C\n",
              "12   13  426905               76  ...            1      sim       C\n",
              "13   11  433603               73  ...            2      não       C\n",
              "14    1  435445               63  ...            1      sim       B\n",
              "15    3  440425               60  ...            1      sim       C\n",
              "16    9  455657               55  ...            1      não       B\n",
              "17    5  458478               49  ...            1      não       C\n",
              "18   10  462392               63  ...            1      não       B\n",
              "19    6  467407               60  ...            1      sim       A\n",
              "20   14  468538               73  ...            1      sim       B\n",
              "21   23  470420               88  ...            2      sim       A\n",
              "22   17  488812               80  ...            2      não       A\n",
              "23   22  508494               84  ...            2      sim       B\n",
              "24   25  604040              103  ...            3      sim       A\n",
              "25   29  652730               91  ...            3      sim       C\n",
              "26   31  683414              110  ...            3      sim       B\n",
              "27   27  692220              105  ...            3      sim       A\n",
              "28   26  712397               90  ...            2      sim       C\n",
              "29   30  714341              100  ...            3      sim       C\n",
              "30   28  718342               89  ...            2      sim       A\n",
              "\n",
              "[31 rows x 8 columns]"
            ]
          },
          "metadata": {
            "tags": []
          },
          "execution_count": 10
        }
      ]
    },
    {
      "cell_type": "markdown",
      "metadata": {
        "id": "vMoF5i9IweuZ"
      },
      "source": [
        "Maravilha, isso é quase o que queremos fazer, pois devemos ajustar outro paramêtro, o paramêtro **inplace**, se não utilizarmos **inplace** como verdadeiro ele não irá aplicar no nosso df, apenas nos mostrar como ele ficaria. Como assim, Arthur? Bom vamos utilizar a função **head()** para ver as 5 primeiras linhas do nosso df."
      ]
    },
    {
      "cell_type": "code",
      "metadata": {
        "id": "DhWlOPS6wdGw",
        "outputId": "0138cf04-0c91-4d02-c35d-dcf9e046ebb9",
        "colab": {
          "base_uri": "https://localhost:8080/",
          "height": 204
        }
      },
      "source": [
        "df.head()"
      ],
      "execution_count": 11,
      "outputs": [
        {
          "output_type": "execute_result",
          "data": {
            "text/html": [
              "<div>\n",
              "<style scoped>\n",
              "    .dataframe tbody tr th:only-of-type {\n",
              "        vertical-align: middle;\n",
              "    }\n",
              "\n",
              "    .dataframe tbody tr th {\n",
              "        vertical-align: top;\n",
              "    }\n",
              "\n",
              "    .dataframe thead th {\n",
              "        text-align: right;\n",
              "    }\n",
              "</style>\n",
              "<table border=\"1\" class=\"dataframe\">\n",
              "  <thead>\n",
              "    <tr style=\"text-align: right;\">\n",
              "      <th></th>\n",
              "      <th>obs</th>\n",
              "      <th>preço</th>\n",
              "      <th>area privada m2</th>\n",
              "      <th>n suites</th>\n",
              "      <th>n quartos</th>\n",
              "      <th>n banheiros</th>\n",
              "      <th>piscina</th>\n",
              "      <th>d_piscina</th>\n",
              "      <th>bairro</th>\n",
              "      <th>d_B</th>\n",
              "      <th>d_C</th>\n",
              "    </tr>\n",
              "  </thead>\n",
              "  <tbody>\n",
              "    <tr>\n",
              "      <th>0</th>\n",
              "      <td>7</td>\n",
              "      <td>311535</td>\n",
              "      <td>64</td>\n",
              "      <td>0</td>\n",
              "      <td>2</td>\n",
              "      <td>1</td>\n",
              "      <td>não</td>\n",
              "      <td>NaN</td>\n",
              "      <td>B</td>\n",
              "      <td>NaN</td>\n",
              "      <td>NaN</td>\n",
              "    </tr>\n",
              "    <tr>\n",
              "      <th>1</th>\n",
              "      <td>4</td>\n",
              "      <td>330048</td>\n",
              "      <td>60</td>\n",
              "      <td>0</td>\n",
              "      <td>2</td>\n",
              "      <td>1</td>\n",
              "      <td>não</td>\n",
              "      <td>NaN</td>\n",
              "      <td>A</td>\n",
              "      <td>NaN</td>\n",
              "      <td>NaN</td>\n",
              "    </tr>\n",
              "    <tr>\n",
              "      <th>2</th>\n",
              "      <td>15</td>\n",
              "      <td>369397</td>\n",
              "      <td>73</td>\n",
              "      <td>1</td>\n",
              "      <td>3</td>\n",
              "      <td>2</td>\n",
              "      <td>não</td>\n",
              "      <td>NaN</td>\n",
              "      <td>B</td>\n",
              "      <td>NaN</td>\n",
              "      <td>NaN</td>\n",
              "    </tr>\n",
              "    <tr>\n",
              "      <th>3</th>\n",
              "      <td>8</td>\n",
              "      <td>389163</td>\n",
              "      <td>68</td>\n",
              "      <td>1</td>\n",
              "      <td>2</td>\n",
              "      <td>1</td>\n",
              "      <td>sim</td>\n",
              "      <td>NaN</td>\n",
              "      <td>A</td>\n",
              "      <td>NaN</td>\n",
              "      <td>NaN</td>\n",
              "    </tr>\n",
              "    <tr>\n",
              "      <th>4</th>\n",
              "      <td>24</td>\n",
              "      <td>394657</td>\n",
              "      <td>86</td>\n",
              "      <td>1</td>\n",
              "      <td>3</td>\n",
              "      <td>2</td>\n",
              "      <td>sim</td>\n",
              "      <td>NaN</td>\n",
              "      <td>B</td>\n",
              "      <td>NaN</td>\n",
              "      <td>NaN</td>\n",
              "    </tr>\n",
              "  </tbody>\n",
              "</table>\n",
              "</div>"
            ],
            "text/plain": [
              "   obs   preço  area privada m2  n suites  ...  d_piscina  bairro d_B  d_C\n",
              "0    7  311535               64         0  ...        NaN       B NaN  NaN\n",
              "1    4  330048               60         0  ...        NaN       A NaN  NaN\n",
              "2   15  369397               73         1  ...        NaN       B NaN  NaN\n",
              "3    8  389163               68         1  ...        NaN       A NaN  NaN\n",
              "4   24  394657               86         1  ...        NaN       B NaN  NaN\n",
              "\n",
              "[5 rows x 11 columns]"
            ]
          },
          "metadata": {
            "tags": []
          },
          "execution_count": 11
        }
      ]
    },
    {
      "cell_type": "markdown",
      "metadata": {
        "id": "ZCaKUnuXxEng"
      },
      "source": [
        "Entenderam? as colunas com valores nulos continuam ali, devemos mudar o paramêtro **axis e o inplace**."
      ]
    },
    {
      "cell_type": "code",
      "metadata": {
        "id": "Vi396D6QxDpg"
      },
      "source": [
        "df.dropna(axis = 1, inplace = True)"
      ],
      "execution_count": 12,
      "outputs": []
    },
    {
      "cell_type": "code",
      "metadata": {
        "id": "nqqfVdUrxPwn",
        "outputId": "fe191b85-d9f2-4ffd-ebc1-d0a75afc0b31",
        "colab": {
          "base_uri": "https://localhost:8080/",
          "height": 204
        }
      },
      "source": [
        "df.head()"
      ],
      "execution_count": 13,
      "outputs": [
        {
          "output_type": "execute_result",
          "data": {
            "text/html": [
              "<div>\n",
              "<style scoped>\n",
              "    .dataframe tbody tr th:only-of-type {\n",
              "        vertical-align: middle;\n",
              "    }\n",
              "\n",
              "    .dataframe tbody tr th {\n",
              "        vertical-align: top;\n",
              "    }\n",
              "\n",
              "    .dataframe thead th {\n",
              "        text-align: right;\n",
              "    }\n",
              "</style>\n",
              "<table border=\"1\" class=\"dataframe\">\n",
              "  <thead>\n",
              "    <tr style=\"text-align: right;\">\n",
              "      <th></th>\n",
              "      <th>obs</th>\n",
              "      <th>preço</th>\n",
              "      <th>area privada m2</th>\n",
              "      <th>n suites</th>\n",
              "      <th>n quartos</th>\n",
              "      <th>n banheiros</th>\n",
              "      <th>piscina</th>\n",
              "      <th>bairro</th>\n",
              "    </tr>\n",
              "  </thead>\n",
              "  <tbody>\n",
              "    <tr>\n",
              "      <th>0</th>\n",
              "      <td>7</td>\n",
              "      <td>311535</td>\n",
              "      <td>64</td>\n",
              "      <td>0</td>\n",
              "      <td>2</td>\n",
              "      <td>1</td>\n",
              "      <td>não</td>\n",
              "      <td>B</td>\n",
              "    </tr>\n",
              "    <tr>\n",
              "      <th>1</th>\n",
              "      <td>4</td>\n",
              "      <td>330048</td>\n",
              "      <td>60</td>\n",
              "      <td>0</td>\n",
              "      <td>2</td>\n",
              "      <td>1</td>\n",
              "      <td>não</td>\n",
              "      <td>A</td>\n",
              "    </tr>\n",
              "    <tr>\n",
              "      <th>2</th>\n",
              "      <td>15</td>\n",
              "      <td>369397</td>\n",
              "      <td>73</td>\n",
              "      <td>1</td>\n",
              "      <td>3</td>\n",
              "      <td>2</td>\n",
              "      <td>não</td>\n",
              "      <td>B</td>\n",
              "    </tr>\n",
              "    <tr>\n",
              "      <th>3</th>\n",
              "      <td>8</td>\n",
              "      <td>389163</td>\n",
              "      <td>68</td>\n",
              "      <td>1</td>\n",
              "      <td>2</td>\n",
              "      <td>1</td>\n",
              "      <td>sim</td>\n",
              "      <td>A</td>\n",
              "    </tr>\n",
              "    <tr>\n",
              "      <th>4</th>\n",
              "      <td>24</td>\n",
              "      <td>394657</td>\n",
              "      <td>86</td>\n",
              "      <td>1</td>\n",
              "      <td>3</td>\n",
              "      <td>2</td>\n",
              "      <td>sim</td>\n",
              "      <td>B</td>\n",
              "    </tr>\n",
              "  </tbody>\n",
              "</table>\n",
              "</div>"
            ],
            "text/plain": [
              "   obs   preço  area privada m2  ...  n banheiros  piscina  bairro\n",
              "0    7  311535               64  ...            1      não       B\n",
              "1    4  330048               60  ...            1      não       A\n",
              "2   15  369397               73  ...            2      não       B\n",
              "3    8  389163               68  ...            1      sim       A\n",
              "4   24  394657               86  ...            2      sim       B\n",
              "\n",
              "[5 rows x 8 columns]"
            ]
          },
          "metadata": {
            "tags": []
          },
          "execution_count": 13
        }
      ]
    },
    {
      "cell_type": "markdown",
      "metadata": {
        "id": "UADaL6C7xReH"
      },
      "source": [
        "Agora sim!!! Eliminamos os valores nulos, porém há outra coluna que não nos traz nenhuma informação relevante, que é a \"obs\", vamos eliminar ela também, dessa vez utilizando a função **drop**, sem o *na* no final, porém devemos utilizar os mesmos parâmetros do *dropna*, **axis = 1 e inplace = True**. Porém dessa vez colocando o nome da coluna junto."
      ]
    },
    {
      "cell_type": "code",
      "metadata": {
        "id": "WdNZ2SP7xQoG"
      },
      "source": [
        "df.drop('obs', axis = 1, inplace = True)"
      ],
      "execution_count": 14,
      "outputs": []
    },
    {
      "cell_type": "code",
      "metadata": {
        "id": "TOtOrCcZyRs-",
        "outputId": "aa57b4a8-aa23-4692-cfd8-b79825a76cca",
        "colab": {
          "base_uri": "https://localhost:8080/",
          "height": 204
        }
      },
      "source": [
        "df.head()"
      ],
      "execution_count": 15,
      "outputs": [
        {
          "output_type": "execute_result",
          "data": {
            "text/html": [
              "<div>\n",
              "<style scoped>\n",
              "    .dataframe tbody tr th:only-of-type {\n",
              "        vertical-align: middle;\n",
              "    }\n",
              "\n",
              "    .dataframe tbody tr th {\n",
              "        vertical-align: top;\n",
              "    }\n",
              "\n",
              "    .dataframe thead th {\n",
              "        text-align: right;\n",
              "    }\n",
              "</style>\n",
              "<table border=\"1\" class=\"dataframe\">\n",
              "  <thead>\n",
              "    <tr style=\"text-align: right;\">\n",
              "      <th></th>\n",
              "      <th>preço</th>\n",
              "      <th>area privada m2</th>\n",
              "      <th>n suites</th>\n",
              "      <th>n quartos</th>\n",
              "      <th>n banheiros</th>\n",
              "      <th>piscina</th>\n",
              "      <th>bairro</th>\n",
              "    </tr>\n",
              "  </thead>\n",
              "  <tbody>\n",
              "    <tr>\n",
              "      <th>0</th>\n",
              "      <td>311535</td>\n",
              "      <td>64</td>\n",
              "      <td>0</td>\n",
              "      <td>2</td>\n",
              "      <td>1</td>\n",
              "      <td>não</td>\n",
              "      <td>B</td>\n",
              "    </tr>\n",
              "    <tr>\n",
              "      <th>1</th>\n",
              "      <td>330048</td>\n",
              "      <td>60</td>\n",
              "      <td>0</td>\n",
              "      <td>2</td>\n",
              "      <td>1</td>\n",
              "      <td>não</td>\n",
              "      <td>A</td>\n",
              "    </tr>\n",
              "    <tr>\n",
              "      <th>2</th>\n",
              "      <td>369397</td>\n",
              "      <td>73</td>\n",
              "      <td>1</td>\n",
              "      <td>3</td>\n",
              "      <td>2</td>\n",
              "      <td>não</td>\n",
              "      <td>B</td>\n",
              "    </tr>\n",
              "    <tr>\n",
              "      <th>3</th>\n",
              "      <td>389163</td>\n",
              "      <td>68</td>\n",
              "      <td>1</td>\n",
              "      <td>2</td>\n",
              "      <td>1</td>\n",
              "      <td>sim</td>\n",
              "      <td>A</td>\n",
              "    </tr>\n",
              "    <tr>\n",
              "      <th>4</th>\n",
              "      <td>394657</td>\n",
              "      <td>86</td>\n",
              "      <td>1</td>\n",
              "      <td>3</td>\n",
              "      <td>2</td>\n",
              "      <td>sim</td>\n",
              "      <td>B</td>\n",
              "    </tr>\n",
              "  </tbody>\n",
              "</table>\n",
              "</div>"
            ],
            "text/plain": [
              "    preço  area privada m2  n suites  n quartos  n banheiros piscina bairro\n",
              "0  311535               64         0          2            1     não      B\n",
              "1  330048               60         0          2            1     não      A\n",
              "2  369397               73         1          3            2     não      B\n",
              "3  389163               68         1          2            1     sim      A\n",
              "4  394657               86         1          3            2     sim      B"
            ]
          },
          "metadata": {
            "tags": []
          },
          "execution_count": 15
        }
      ]
    },
    {
      "cell_type": "markdown",
      "metadata": {
        "id": "-QDb1RxpzON4"
      },
      "source": [
        "Maravilha, nossos dados estão quase prontos para aplicar o modelo de Regressão Linear, eu digo quase, pois as bibliotecas do python só aceitam números na hora da modelagem, e temos duas variáveis como *object* e não como *int ou float*, devemos fazer uma transformação nessas variáveis dummies, e adivinha quem poderá nos ajudar? Isso mesmo, o pandas. \n",
        "\n",
        "#**5º Passo - Tratando variáveis *Dummies* com Pandas**\n",
        "\n",
        "O Pandas possui uma função chamada *get_dummies* que nos auxilia em tratar esses dados e deixar eles da forma certa.\n",
        "\n",
        "Porém dessa vez não conseguiremos fazer direto do nosso objeto *df* temos que criar uma nova variável para isso."
      ]
    },
    {
      "cell_type": "code",
      "metadata": {
        "id": "7GypaOlBzMem"
      },
      "source": [
        "df_dummies = pd.get_dummies(df, columns = ['piscina', 'bairro'], drop_first = True)"
      ],
      "execution_count": 16,
      "outputs": []
    },
    {
      "cell_type": "markdown",
      "metadata": {
        "id": "NE5zQrIW18g7"
      },
      "source": [
        "Vamos entender os parâmetros:\n",
        "\n",
        "- df -> nossos dados;\n",
        "- columns -> as colunas que são variáveis dummies, devemos colocar entre [   ] pois são mais de uma.\n",
        "- drop_first -> para evitarmos de ficar 2 colunas que dizem a mesma coisa, colocamos para eliminar uma delas. Como assim, Arthur? se não colocassemos esse parâmetro teríamos por exemplo: piscina_sim, piscina_não. E os valores teriam correlação -1, pois quando é sim, o piscina_sim é 1 e o piscina_não é 0, e vice-versa, o drop_first impede que isso ocorra."
      ]
    },
    {
      "cell_type": "code",
      "metadata": {
        "id": "sMjglaGa14h9",
        "outputId": "28e0ce6a-798d-4183-87ae-84cebec2a797",
        "colab": {
          "base_uri": "https://localhost:8080/",
          "height": 204
        }
      },
      "source": [
        "df_dummies.head()"
      ],
      "execution_count": 17,
      "outputs": [
        {
          "output_type": "execute_result",
          "data": {
            "text/html": [
              "<div>\n",
              "<style scoped>\n",
              "    .dataframe tbody tr th:only-of-type {\n",
              "        vertical-align: middle;\n",
              "    }\n",
              "\n",
              "    .dataframe tbody tr th {\n",
              "        vertical-align: top;\n",
              "    }\n",
              "\n",
              "    .dataframe thead th {\n",
              "        text-align: right;\n",
              "    }\n",
              "</style>\n",
              "<table border=\"1\" class=\"dataframe\">\n",
              "  <thead>\n",
              "    <tr style=\"text-align: right;\">\n",
              "      <th></th>\n",
              "      <th>preço</th>\n",
              "      <th>area privada m2</th>\n",
              "      <th>n suites</th>\n",
              "      <th>n quartos</th>\n",
              "      <th>n banheiros</th>\n",
              "      <th>piscina_sim</th>\n",
              "      <th>bairro_B</th>\n",
              "      <th>bairro_C</th>\n",
              "    </tr>\n",
              "  </thead>\n",
              "  <tbody>\n",
              "    <tr>\n",
              "      <th>0</th>\n",
              "      <td>311535</td>\n",
              "      <td>64</td>\n",
              "      <td>0</td>\n",
              "      <td>2</td>\n",
              "      <td>1</td>\n",
              "      <td>0</td>\n",
              "      <td>1</td>\n",
              "      <td>0</td>\n",
              "    </tr>\n",
              "    <tr>\n",
              "      <th>1</th>\n",
              "      <td>330048</td>\n",
              "      <td>60</td>\n",
              "      <td>0</td>\n",
              "      <td>2</td>\n",
              "      <td>1</td>\n",
              "      <td>0</td>\n",
              "      <td>0</td>\n",
              "      <td>0</td>\n",
              "    </tr>\n",
              "    <tr>\n",
              "      <th>2</th>\n",
              "      <td>369397</td>\n",
              "      <td>73</td>\n",
              "      <td>1</td>\n",
              "      <td>3</td>\n",
              "      <td>2</td>\n",
              "      <td>0</td>\n",
              "      <td>1</td>\n",
              "      <td>0</td>\n",
              "    </tr>\n",
              "    <tr>\n",
              "      <th>3</th>\n",
              "      <td>389163</td>\n",
              "      <td>68</td>\n",
              "      <td>1</td>\n",
              "      <td>2</td>\n",
              "      <td>1</td>\n",
              "      <td>1</td>\n",
              "      <td>0</td>\n",
              "      <td>0</td>\n",
              "    </tr>\n",
              "    <tr>\n",
              "      <th>4</th>\n",
              "      <td>394657</td>\n",
              "      <td>86</td>\n",
              "      <td>1</td>\n",
              "      <td>3</td>\n",
              "      <td>2</td>\n",
              "      <td>1</td>\n",
              "      <td>1</td>\n",
              "      <td>0</td>\n",
              "    </tr>\n",
              "  </tbody>\n",
              "</table>\n",
              "</div>"
            ],
            "text/plain": [
              "    preço  area privada m2  n suites  ...  piscina_sim  bairro_B  bairro_C\n",
              "0  311535               64         0  ...            0         1         0\n",
              "1  330048               60         0  ...            0         0         0\n",
              "2  369397               73         1  ...            0         1         0\n",
              "3  389163               68         1  ...            1         0         0\n",
              "4  394657               86         1  ...            1         1         0\n",
              "\n",
              "[5 rows x 8 columns]"
            ]
          },
          "metadata": {
            "tags": []
          },
          "execution_count": 17
        }
      ]
    },
    {
      "cell_type": "markdown",
      "metadata": {
        "id": "UbvgwwlY4GXw"
      },
      "source": [
        "#**6º Passo - Análise Exploratória por meio de Gráficos**\n",
        "Tratamentos feitos, podemos começar a analisar nosso dados por meio de gráficos. Para isso o Python possui duas bibliotecas fantásticas: **seaborn** e **matplotlib.pyplot**.\n",
        "\n",
        "Vamos fazer o import dessas com seus devidos apelidos utilizados no mercado."
      ]
    },
    {
      "cell_type": "code",
      "metadata": {
        "id": "sBUu5TtT16Vy"
      },
      "source": [
        "import seaborn as sns\n",
        "import matplotlib.pyplot as plt"
      ],
      "execution_count": 18,
      "outputs": []
    },
    {
      "cell_type": "markdown",
      "metadata": {
        "id": "dOnror_cJRr6"
      },
      "source": [
        "##**Histograma**\n",
        "Vamos começar fazendo um histograma da variável preço para verificarmos a distribuição dos nossos dados."
      ]
    },
    {
      "cell_type": "code",
      "metadata": {
        "id": "mXVNbpPNJXpE",
        "outputId": "b74c8ed3-3611-4f3b-ef70-4b3e04c92077",
        "colab": {
          "base_uri": "https://localhost:8080/",
          "height": 296
        }
      },
      "source": [
        "sns.histplot(data = df_dummies, x = 'preço')"
      ],
      "execution_count": 40,
      "outputs": [
        {
          "output_type": "execute_result",
          "data": {
            "text/plain": [
              "<matplotlib.axes._subplots.AxesSubplot at 0x7f72c4d02550>"
            ]
          },
          "metadata": {
            "tags": []
          },
          "execution_count": 40
        },
        {
          "output_type": "display_data",
          "data": {
            "image/png": "[encoded data removed]",
            "text/plain": [
              "<Figure size 432x288 with 1 Axes>"
            ]
          },
          "metadata": {
            "tags": [],
            "needs_background": "light"
          }
        }
      ]
    },
    {
      "cell_type": "markdown",
      "metadata": {
        "id": "uRp7TwGjJmZ_"
      },
      "source": [
        "Podemos observar que a variável preço não segue uma distribuição normal, mas se quisermos facilitar nossa visualização podemos colocar um parâmetro que faz aquela curvinha para nós."
      ]
    },
    {
      "cell_type": "code",
      "metadata": {
        "id": "TT99LMCwJw0d",
        "outputId": "b55425f8-b864-4f2b-b460-c67692e5fc34",
        "colab": {
          "base_uri": "https://localhost:8080/",
          "height": 296
        }
      },
      "source": [
        "sns.histplot(data = df_dummies, x='preço', kde = True)"
      ],
      "execution_count": 43,
      "outputs": [
        {
          "output_type": "execute_result",
          "data": {
            "text/plain": [
              "<matplotlib.axes._subplots.AxesSubplot at 0x7f72c4341b70>"
            ]
          },
          "metadata": {
            "tags": []
          },
          "execution_count": 43
        },
        {
          "output_type": "display_data",
          "data": {
            "image/png": "[encoded data removed]",
            "text/plain": [
              "<Figure size 432x288 with 1 Axes>"
            ]
          },
          "metadata": {
            "tags": [],
            "needs_background": "light"
          }
        }
      ]
    },
    {
      "cell_type": "markdown",
      "metadata": {
        "id": "xkoXzG3G5DzS"
      },
      "source": [
        "##**Gráfico de dispersão**\n",
        "Podemos também fazer um gráfico de dispersão entre duas variáveis, como por exemplo: preço e área privada."
      ]
    },
    {
      "cell_type": "code",
      "metadata": {
        "id": "llbi8uPk4c7p",
        "outputId": "bf024cb7-285e-406a-e71b-199461746333",
        "colab": {
          "base_uri": "https://localhost:8080/",
          "height": 279
        }
      },
      "source": [
        "sns.scatterplot(x = 'area privada m2', y = 'preço', data = df_dummies)\n",
        "plt.show()"
      ],
      "execution_count": 19,
      "outputs": [
        {
          "output_type": "display_data",
          "data": {
            "image/png": "[encoded data removed]",
            "text/plain": [
              "<Figure size 432x288 with 1 Axes>"
            ]
          },
          "metadata": {
            "tags": [],
            "needs_background": "light"
          }
        }
      ]
    },
    {
      "cell_type": "markdown",
      "metadata": {
        "id": "ui_VvmzUGte5"
      },
      "source": [
        "Maravilha, gráfico feito. Nosso scatterplot foi feito com apenas uma linha de comando.\n",
        "\n",
        "Podemos também fazer o plot de um gráfico com uma reta que nos mostre como está sendo essa distribuição entre as variáveis, e sabe como? Com apenas uma linha de código."
      ]
    },
    {
      "cell_type": "code",
      "metadata": {
        "id": "J-VUlLP1HJza",
        "outputId": "f5d4530d-c408-434d-9d8e-ecc01fc76c24",
        "colab": {
          "base_uri": "https://localhost:8080/",
          "height": 383
        }
      },
      "source": [
        "sns.lmplot(x = 'area privada m2', y= 'preço', data = df_dummies)\n",
        "plt.show()"
      ],
      "execution_count": 20,
      "outputs": [
        {
          "output_type": "display_data",
          "data": {
            "image/png": "[encoded data removed]",
            "text/plain": [
              "<Figure size 360x360 with 1 Axes>"
            ]
          },
          "metadata": {
            "tags": [],
            "needs_background": "light"
          }
        }
      ]
    },
    {
      "cell_type": "markdown",
      "metadata": {
        "id": "XFTs7HFP7chW"
      },
      "source": [
        "Isso são as funções básicas do seaborn, já conseguimos retirar diversas informações desses gráficos, porém há milhares de opções de configurações destes gráficos, podemos deixar eles bem mais atraentes.\n",
        "\n",
        "##**Exemplo de Gráfico utilizando opções de personalização**"
      ]
    },
    {
      "cell_type": "code",
      "metadata": {
        "id": "QrGgewHq66zI",
        "outputId": "0ab5df75-b26e-4116-9710-def248b21986",
        "colab": {
          "base_uri": "https://localhost:8080/",
          "height": 441
        }
      },
      "source": [
        "fig, ax = plt.subplots(figsize = (12,6))\n",
        "ax = sns.scatterplot(x = 'area privada m2', y = 'preço', hue = 'piscina_sim', style = 'n quartos', s= 100, data = df_dummies, palette= 'rocket')\n",
        "plt.title('Gráfico de Distribuição', fontweight = 'bold', fontsize = 16)\n",
        "plt.legend(loc = 'best', ncol = 1, fontsize = 'large')\n",
        "plt.hlines(y = df_dummies['preço'].mean(), xmin = 50, xmax= 120, linestyles = 'dashed', color = 'g')\n",
        "plt.text(90, df_dummies['preço'].mean()+ 15000,\n",
        "         \"Média de preço de R$ {} por imóvel\".format(round(df_dummies['preço'].mean(),0)),\n",
        "         verticalalignment=\"top\",\n",
        "         fontsize=10,\n",
        "         weight = 'bold',\n",
        "         color='green')\n",
        "plt.xlabel('Área do Imóvel (m²)', fontweight = 'bold', fontsize = 14)\n",
        "plt.ylabel('Preço', fontweight = 'bold', fontsize = 14)\n",
        "plt.tight_layout()\n",
        "plt.show()"
      ],
      "execution_count": 37,
      "outputs": [
        {
          "output_type": "display_data",
          "data": {
            "image/png": "[encoded data removed]",
            "text/plain": [
              "<Figure size 864x432 with 1 Axes>"
            ]
          },
          "metadata": {
            "tags": [],
            "needs_background": "light"
          }
        }
      ]
    },
    {
      "cell_type": "markdown",
      "metadata": {
        "id": "SUOloWPOCtvm"
      },
      "source": [
        "Em um só gráfico bem montado conseguimos retirar diversas informações relevantes."
      ]
    },
    {
      "cell_type": "markdown",
      "metadata": {
        "id": "6yGwRZkeFvHy"
      },
      "source": [
        "##**Facilidades do Pandas para Análise Exploratória**\n",
        "Mas Arthur, tem algum jeito de o python facilitar minha vida, tipo fazer todos esses gráficos de distribuição e histogramas para mim?\n",
        "\n",
        "Claro, meu querido(a), tem sim, e auxilia muito na análise exploratória, porém para uma análise explanatória devemos utilizar gráficos que sejam mais fácil de entender como os acima. Para uma exploração mais profunda também devemos fazer o plot de um gráfico de cada vez.\n",
        "\n",
        "Para isso temos uma função no seaborn o **pairplot**, ele faz esse trabalho para nós."
      ]
    },
    {
      "cell_type": "code",
      "metadata": {
        "id": "D3YVdSzyDAq9",
        "outputId": "c55978a9-ef80-40bd-bb4c-c71e4686dbba",
        "colab": {
          "base_uri": "https://localhost:8080/",
          "height": 868
        }
      },
      "source": [
        "sns.pairplot(df_dummies, height=1.5, corner = True)\n",
        "plt.show()"
      ],
      "execution_count": 23,
      "outputs": [
        {
          "output_type": "display_data",
          "data": {
            "image/png": "[encoded data removed]",
            "text/plain": [
              "<Figure size 864x864 with 44 Axes>"
            ]
          },
          "metadata": {
            "tags": [],
            "needs_background": "light"
          }
        }
      ]
    },
    {
      "cell_type": "markdown",
      "metadata": {
        "id": "MEDEYOFEGaW6"
      },
      "source": [
        "##**Diagrama de Caixa (Boxplot)**\n",
        "Além de gráficos de dispersão, podemos fazer outros tipos de gráficos, como um boxplot.\n",
        "\n",
        "Nesse boxplot iremos analisar a relação de um imóvel com piscina e seu preço, lembrando que 0 é sem piscina, e 1 é com piscina"
      ]
    },
    {
      "cell_type": "code",
      "metadata": {
        "id": "aDBmBNUSFHa1",
        "outputId": "56d3d57c-384f-45ea-e04d-a3d71b6ccfa1",
        "colab": {
          "base_uri": "https://localhost:8080/",
          "height": 280
        }
      },
      "source": [
        "sns.boxplot(x='piscina_sim', y = 'preço', data = df_dummies)\n",
        "plt.show()"
      ],
      "execution_count": 24,
      "outputs": [
        {
          "output_type": "display_data",
          "data": {
            "image/png": "[encoded data removed]",
            "text/plain": [
              "<Figure size 432x288 with 1 Axes>"
            ]
          },
          "metadata": {
            "tags": [],
            "needs_background": "light"
          }
        }
      ]
    },
    {
      "cell_type": "markdown",
      "metadata": {
        "id": "B0Yf82TRNfxM"
      },
      "source": [
        "##**Gráfico de Calor com correlação (Correlation Heatmap)**\n",
        "Maravilha, mas pensa que acabou? Agora vamos fazer um gráfico de correlação de variáveis que irá nos ajudar a entender melhor ainda os dados."
      ]
    },
    {
      "cell_type": "code",
      "metadata": {
        "id": "a05c6XjVNZPr",
        "outputId": "f8534b05-4460-4719-bd7a-82637e271bc8",
        "colab": {
          "base_uri": "https://localhost:8080/",
          "height": 596
        }
      },
      "source": [
        "fig, ax = plt.subplots(figsize = (16,10))\n",
        "sns.heatmap(df_dummies.corr(), vmin = -1, vmax = 1, linewidths = .5, annot = True)\n",
        "plt.show()"
      ],
      "execution_count": 35,
      "outputs": [
        {
          "output_type": "display_data",
          "data": {
            "image/png": "[encoded data removed]",
            "text/plain": [
              "<Figure size 1152x720 with 2 Axes>"
            ]
          },
          "metadata": {
            "tags": [],
            "needs_background": "light"
          }
        }
      ]
    },
    {
      "cell_type": "markdown",
      "metadata": {
        "id": "WOi6UvERPnUy"
      },
      "source": [
        "É impressionante o quanto de informação que conseguimos retirar dos dados quanto mais exploramos eles, e o Python consegue nos passar informações com muita rapidez, com apenas algumas linhas de código, o que é excelente.\n"
      ]
    },
    {
      "cell_type": "markdown",
      "metadata": {
        "id": "8kmw-4lLV065"
      },
      "source": [
        "##**Descrição dos dados - sem gráfico**\n",
        "Porém não apenas de gráficos vive o ser humano, podemos utilizar uma função muito boa para receber todas as estatísticas de cada varíavel.\n",
        "\n",
        "A função **describe()** descreve muito bem os dados para nós."
      ]
    },
    {
      "cell_type": "code",
      "metadata": {
        "id": "fEe6GUvkWACn",
        "outputId": "c94c626b-b746-46d7-c827-d96096249876",
        "colab": {
          "base_uri": "https://localhost:8080/",
          "height": 297
        }
      },
      "source": [
        "df_dummies.describe()"
      ],
      "execution_count": 26,
      "outputs": [
        {
          "output_type": "execute_result",
          "data": {
            "text/html": [
              "<div>\n",
              "<style scoped>\n",
              "    .dataframe tbody tr th:only-of-type {\n",
              "        vertical-align: middle;\n",
              "    }\n",
              "\n",
              "    .dataframe tbody tr th {\n",
              "        vertical-align: top;\n",
              "    }\n",
              "\n",
              "    .dataframe thead th {\n",
              "        text-align: right;\n",
              "    }\n",
              "</style>\n",
              "<table border=\"1\" class=\"dataframe\">\n",
              "  <thead>\n",
              "    <tr style=\"text-align: right;\">\n",
              "      <th></th>\n",
              "      <th>preço</th>\n",
              "      <th>area privada m2</th>\n",
              "      <th>n suites</th>\n",
              "      <th>n quartos</th>\n",
              "      <th>n banheiros</th>\n",
              "      <th>piscina_sim</th>\n",
              "      <th>bairro_B</th>\n",
              "      <th>bairro_C</th>\n",
              "    </tr>\n",
              "  </thead>\n",
              "  <tbody>\n",
              "    <tr>\n",
              "      <th>count</th>\n",
              "      <td>31.000000</td>\n",
              "      <td>31.000000</td>\n",
              "      <td>31.000000</td>\n",
              "      <td>31.000000</td>\n",
              "      <td>31.000000</td>\n",
              "      <td>31.000000</td>\n",
              "      <td>31.000000</td>\n",
              "      <td>31.000000</td>\n",
              "    </tr>\n",
              "    <tr>\n",
              "      <th>mean</th>\n",
              "      <td>483168.903226</td>\n",
              "      <td>76.967742</td>\n",
              "      <td>0.838710</td>\n",
              "      <td>2.741935</td>\n",
              "      <td>1.741935</td>\n",
              "      <td>0.645161</td>\n",
              "      <td>0.354839</td>\n",
              "      <td>0.322581</td>\n",
              "    </tr>\n",
              "    <tr>\n",
              "      <th>std</th>\n",
              "      <td>118307.080451</td>\n",
              "      <td>15.452042</td>\n",
              "      <td>0.820438</td>\n",
              "      <td>0.855092</td>\n",
              "      <td>0.728823</td>\n",
              "      <td>0.486373</td>\n",
              "      <td>0.486373</td>\n",
              "      <td>0.475191</td>\n",
              "    </tr>\n",
              "    <tr>\n",
              "      <th>min</th>\n",
              "      <td>311535.000000</td>\n",
              "      <td>49.000000</td>\n",
              "      <td>0.000000</td>\n",
              "      <td>1.000000</td>\n",
              "      <td>1.000000</td>\n",
              "      <td>0.000000</td>\n",
              "      <td>0.000000</td>\n",
              "      <td>0.000000</td>\n",
              "    </tr>\n",
              "    <tr>\n",
              "      <th>25%</th>\n",
              "      <td>410603.500000</td>\n",
              "      <td>63.500000</td>\n",
              "      <td>0.000000</td>\n",
              "      <td>2.000000</td>\n",
              "      <td>1.000000</td>\n",
              "      <td>0.000000</td>\n",
              "      <td>0.000000</td>\n",
              "      <td>0.000000</td>\n",
              "    </tr>\n",
              "    <tr>\n",
              "      <th>50%</th>\n",
              "      <td>440425.000000</td>\n",
              "      <td>74.000000</td>\n",
              "      <td>1.000000</td>\n",
              "      <td>3.000000</td>\n",
              "      <td>2.000000</td>\n",
              "      <td>1.000000</td>\n",
              "      <td>0.000000</td>\n",
              "      <td>0.000000</td>\n",
              "    </tr>\n",
              "    <tr>\n",
              "      <th>75%</th>\n",
              "      <td>498653.000000</td>\n",
              "      <td>87.000000</td>\n",
              "      <td>1.000000</td>\n",
              "      <td>3.000000</td>\n",
              "      <td>2.000000</td>\n",
              "      <td>1.000000</td>\n",
              "      <td>1.000000</td>\n",
              "      <td>1.000000</td>\n",
              "    </tr>\n",
              "    <tr>\n",
              "      <th>max</th>\n",
              "      <td>718342.000000</td>\n",
              "      <td>110.000000</td>\n",
              "      <td>3.000000</td>\n",
              "      <td>4.000000</td>\n",
              "      <td>3.000000</td>\n",
              "      <td>1.000000</td>\n",
              "      <td>1.000000</td>\n",
              "      <td>1.000000</td>\n",
              "    </tr>\n",
              "  </tbody>\n",
              "</table>\n",
              "</div>"
            ],
            "text/plain": [
              "               preço  area privada m2  ...   bairro_B   bairro_C\n",
              "count      31.000000        31.000000  ...  31.000000  31.000000\n",
              "mean   483168.903226        76.967742  ...   0.354839   0.322581\n",
              "std    118307.080451        15.452042  ...   0.486373   0.475191\n",
              "min    311535.000000        49.000000  ...   0.000000   0.000000\n",
              "25%    410603.500000        63.500000  ...   0.000000   0.000000\n",
              "50%    440425.000000        74.000000  ...   0.000000   0.000000\n",
              "75%    498653.000000        87.000000  ...   1.000000   1.000000\n",
              "max    718342.000000       110.000000  ...   1.000000   1.000000\n",
              "\n",
              "[8 rows x 8 columns]"
            ]
          },
          "metadata": {
            "tags": []
          },
          "execution_count": 26
        }
      ]
    },
    {
      "cell_type": "markdown",
      "metadata": {
        "id": "M6hn_9JhWCKJ"
      },
      "source": [
        "Podemos ver a contagem, média, desvio padrão, mínimo, máximo e os quartis."
      ]
    },
    {
      "cell_type": "markdown",
      "metadata": {
        "id": "tXaWPwPaLdg4"
      },
      "source": [
        "#**7º Passo - Separar em X(Variáveis Independentes) e y(Variável dependente)**\n",
        "Agora iremos criar o nosso modelo de Regressão Linear, será que serão algumas poucas linhas de código também? ou será que para montar modelos precisaríamos de algo mais complexo?\n",
        "\n",
        "Graças as bibliotecas, tudo fica mais fácil, então com poucas linhas de código a gente consegue montar uma regressão linear.\n",
        "\n",
        "Então vamos começar, primeiro devemos separar nossos dados em X e Y, faremos isso com a ajuda do *drop*."
      ]
    },
    {
      "cell_type": "code",
      "metadata": {
        "id": "CM2pEC3POEyo"
      },
      "source": [
        "X = df_dummies.drop(['preço'], axis = 1)\n",
        "y = df_dummies['preço']"
      ],
      "execution_count": 27,
      "outputs": []
    },
    {
      "cell_type": "code",
      "metadata": {
        "id": "yyBenI-IT7pW",
        "outputId": "4c87de9c-dfc3-45f3-d05c-ac3e2e5114ee",
        "colab": {
          "base_uri": "https://localhost:8080/",
          "height": 204
        }
      },
      "source": [
        "X.head()"
      ],
      "execution_count": 28,
      "outputs": [
        {
          "output_type": "execute_result",
          "data": {
            "text/html": [
              "<div>\n",
              "<style scoped>\n",
              "    .dataframe tbody tr th:only-of-type {\n",
              "        vertical-align: middle;\n",
              "    }\n",
              "\n",
              "    .dataframe tbody tr th {\n",
              "        vertical-align: top;\n",
              "    }\n",
              "\n",
              "    .dataframe thead th {\n",
              "        text-align: right;\n",
              "    }\n",
              "</style>\n",
              "<table border=\"1\" class=\"dataframe\">\n",
              "  <thead>\n",
              "    <tr style=\"text-align: right;\">\n",
              "      <th></th>\n",
              "      <th>area privada m2</th>\n",
              "      <th>n suites</th>\n",
              "      <th>n quartos</th>\n",
              "      <th>n banheiros</th>\n",
              "      <th>piscina_sim</th>\n",
              "      <th>bairro_B</th>\n",
              "      <th>bairro_C</th>\n",
              "    </tr>\n",
              "  </thead>\n",
              "  <tbody>\n",
              "    <tr>\n",
              "      <th>0</th>\n",
              "      <td>64</td>\n",
              "      <td>0</td>\n",
              "      <td>2</td>\n",
              "      <td>1</td>\n",
              "      <td>0</td>\n",
              "      <td>1</td>\n",
              "      <td>0</td>\n",
              "    </tr>\n",
              "    <tr>\n",
              "      <th>1</th>\n",
              "      <td>60</td>\n",
              "      <td>0</td>\n",
              "      <td>2</td>\n",
              "      <td>1</td>\n",
              "      <td>0</td>\n",
              "      <td>0</td>\n",
              "      <td>0</td>\n",
              "    </tr>\n",
              "    <tr>\n",
              "      <th>2</th>\n",
              "      <td>73</td>\n",
              "      <td>1</td>\n",
              "      <td>3</td>\n",
              "      <td>2</td>\n",
              "      <td>0</td>\n",
              "      <td>1</td>\n",
              "      <td>0</td>\n",
              "    </tr>\n",
              "    <tr>\n",
              "      <th>3</th>\n",
              "      <td>68</td>\n",
              "      <td>1</td>\n",
              "      <td>2</td>\n",
              "      <td>1</td>\n",
              "      <td>1</td>\n",
              "      <td>0</td>\n",
              "      <td>0</td>\n",
              "    </tr>\n",
              "    <tr>\n",
              "      <th>4</th>\n",
              "      <td>86</td>\n",
              "      <td>1</td>\n",
              "      <td>3</td>\n",
              "      <td>2</td>\n",
              "      <td>1</td>\n",
              "      <td>1</td>\n",
              "      <td>0</td>\n",
              "    </tr>\n",
              "  </tbody>\n",
              "</table>\n",
              "</div>"
            ],
            "text/plain": [
              "   area privada m2  n suites  n quartos  ...  piscina_sim  bairro_B  bairro_C\n",
              "0               64         0          2  ...            0         1         0\n",
              "1               60         0          2  ...            0         0         0\n",
              "2               73         1          3  ...            0         1         0\n",
              "3               68         1          2  ...            1         0         0\n",
              "4               86         1          3  ...            1         1         0\n",
              "\n",
              "[5 rows x 7 columns]"
            ]
          },
          "metadata": {
            "tags": []
          },
          "execution_count": 28
        }
      ]
    },
    {
      "cell_type": "code",
      "metadata": {
        "id": "Fcx2E2UcT-UL",
        "outputId": "467aa836-4500-4ab0-bcc5-885b2b9ba4fe",
        "colab": {
          "base_uri": "https://localhost:8080/"
        }
      },
      "source": [
        "y.head()"
      ],
      "execution_count": 29,
      "outputs": [
        {
          "output_type": "execute_result",
          "data": {
            "text/plain": [
              "0    311535\n",
              "1    330048\n",
              "2    369397\n",
              "3    389163\n",
              "4    394657\n",
              "Name: preço, dtype: int64"
            ]
          },
          "metadata": {
            "tags": []
          },
          "execution_count": 29
        }
      ]
    },
    {
      "cell_type": "markdown",
      "metadata": {
        "id": "3x32tsj2UCLV"
      },
      "source": [
        "#**8º Passo - Criação do Modelo de Regressão Linear**\n",
        "Agora para montar nosso modelo de Regressão Linear, podemos utilizar duas bibliotecas famosas: **statsmodels** e **sklearn**.\n",
        "\n",
        "A biblioteca *statsmodels* é mais para métodos estatísticos, e a *sklearn* é mais quando vamos colocar o modelo em produção, como estamos fazendo uma introdução ao Python, vamos utilizar a biblioteca *statsmodels* que é mais fácil de compreender."
      ]
    },
    {
      "cell_type": "code",
      "metadata": {
        "id": "bKTh6YKsT_qL"
      },
      "source": [
        "import statsmodels.api as sm"
      ],
      "execution_count": 51,
      "outputs": []
    },
    {
      "cell_type": "markdown",
      "metadata": {
        "id": "NoyzxL0mXNfJ"
      },
      "source": [
        "Para essa regressão linear simples, vamos utilizar a função *ols*, ela calcula o valor dos mínimos quadrados ordinários (**O**rdinary **L**east **S**quares).\n",
        "\n",
        "O método dos mínimos quadrados ordinários é um método para estimar parâmetros em uma regressão linear. Lembrando que a fórmula para uma linha de regressão é y = mx + b, em que y é nossa variável resposta, x é o preditor, b é o intercepto e m é a inclinação da linha. "
      ]
    },
    {
      "cell_type": "code",
      "metadata": {
        "id": "6ie36QOLVUIF"
      },
      "source": [
        "model = sm.OLS(y,X).fit()"
      ],
      "execution_count": 56,
      "outputs": []
    },
    {
      "cell_type": "markdown",
      "metadata": {
        "id": "dMFpWkezXTca"
      },
      "source": [
        "Modelo criado.\n",
        "\n",
        "Sério? É só isso? Eu montei o modelo só escrevendo isso?\n",
        "\n",
        "Sim, é só isso. O mais trabalhoso é a limpeza, análise exploratória e o pré-processamento dos dados. A criação do modelo é exatamente essa linha de código.\n",
        "\n",
        "Criamos um modelo de Regressão Linear Múltipla utilizando o método dos Mínimos Quadrados Ordinários (OLS - Ordinary Least Square em inglês)."
      ]
    },
    {
      "cell_type": "markdown",
      "metadata": {
        "id": "Wk7nRUmiX-xB"
      },
      "source": [
        "Agora com a função **summary()** iremos ver o resultado do nosso modelo"
      ]
    },
    {
      "cell_type": "code",
      "metadata": {
        "id": "hl4C1nMaViF6",
        "outputId": "4f881f02-49ca-4347-9c28-5d448ae762c9",
        "colab": {
          "base_uri": "https://localhost:8080/"
        }
      },
      "source": [
        "print(model.summary())"
      ],
      "execution_count": 57,
      "outputs": [
        {
          "output_type": "stream",
          "text": [
            "                                 OLS Regression Results                                \n",
            "=======================================================================================\n",
            "Dep. Variable:                  preço   R-squared (uncentered):                   0.975\n",
            "Model:                            OLS   Adj. R-squared (uncentered):              0.967\n",
            "Method:                 Least Squares   F-statistic:                              131.5\n",
            "Date:                Wed, 07 Oct 2020   Prob (F-statistic):                    1.43e-17\n",
            "Time:                        08:40:50   Log-Likelihood:                         -393.66\n",
            "No. Observations:                  31   AIC:                                      801.3\n",
            "Df Residuals:                      24   BIC:                                      811.4\n",
            "Df Model:                           7                                                  \n",
            "Covariance Type:            nonrobust                                                  \n",
            "===================================================================================\n",
            "                      coef    std err          t      P>|t|      [0.025      0.975]\n",
            "-----------------------------------------------------------------------------------\n",
            "area privada m2  6071.9865   1884.447      3.222      0.004    2182.680    9961.293\n",
            "n suites          1.81e+04   2.85e+04      0.634      0.532   -4.08e+04     7.7e+04\n",
            "n quartos        8467.2777   5.08e+04      0.167      0.869   -9.65e+04    1.13e+05\n",
            "n banheiros     -2.766e+04   4.81e+04     -0.575      0.571   -1.27e+05    7.16e+04\n",
            "piscina_sim      9437.9767   4.11e+04      0.230      0.820   -7.53e+04    9.42e+04\n",
            "bairro_B          523.5646   4.23e+04      0.012      0.990   -8.68e+04    8.78e+04\n",
            "bairro_C         5.406e+04   4.33e+04      1.248      0.224   -3.53e+04    1.43e+05\n",
            "==============================================================================\n",
            "Omnibus:                        1.268   Durbin-Watson:                   0.834\n",
            "Prob(Omnibus):                  0.531   Jarque-Bera (JB):                1.187\n",
            "Skew:                           0.346   Prob(JB):                        0.552\n",
            "Kurtosis:                       2.336   Cond. No.                         341.\n",
            "==============================================================================\n",
            "\n",
            "Warnings:\n",
            "[1] Standard Errors assume that the covariance matrix of the errors is correctly specified.\n"
          ],
          "name": "stdout"
        }
      ]
    },
    {
      "cell_type": "markdown",
      "metadata": {
        "id": "gdoAhcldYKiG"
      },
      "source": [
        "Maravilha, ai estão todas as métricas de avaliação do nosso modelo, tudo junto com apenas algumas linhas de código."
      ]
    },
    {
      "cell_type": "markdown",
      "metadata": {
        "id": "Td1UoG66RMsv"
      },
      "source": [
        "#**9º Passo - Utilizando o modelo para predição**\n",
        "Agora está na hora de fazermos as predições, que é a parte mais legal.\n",
        "\n",
        "Poderíamos colocar outra base de dados que contivessem as mesmas colunas para fazer a predição, porém como não temos, vamos fazer a predição com as varíaveis que quisermos."
      ]
    },
    {
      "cell_type": "code",
      "metadata": {
        "id": "-c-uCKrxbq4k"
      },
      "source": [
        "import numpy as np"
      ],
      "execution_count": 33,
      "outputs": []
    },
    {
      "cell_type": "code",
      "metadata": {
        "id": "ms1dvjqdVjJS",
        "outputId": "8f629cef-473f-4f74-d650-ccccd215e957",
        "colab": {
          "base_uri": "https://localhost:8080/"
        }
      },
      "source": [
        "area = int(input('Qual a área do imóvel? '))\n",
        "suites = int(input('Quantas suítes possui o imóvel? '))\n",
        "n_quartos = int(input('Quantos quartos possuem o imóvel? '))\n",
        "n_banheiros = int(input('Quantos banheiros possuem no imóvel? '))\n",
        "piscina_sim = int(input('O Imóvel tem piscina? Digite 1 para sim, 0 para não -> '))\n",
        "bairro_B = int(input('Seu imóvel está no Bairro B? Digite 1 para sim, 0 para não -> '))\n",
        "bairro_C = int(input('Seu imóvel está no Bairro C? Digite 1 para sim, 0 para não-> '))\n",
        "predicao = list([area,suites,n_quartos,n_banheiros,piscina_sim,bairro_B,bairro_C])\n",
        "print('Você deve vender o imóvel pelo valor de R$ {}.'.format(np.around(model.predict(predicao),2)))"
      ],
      "execution_count": 34,
      "outputs": [
        {
          "output_type": "stream",
          "text": [
            "Qual a área do imóvel? 50\n",
            "Quantas suítes possui o imóvel? 2\n",
            "Quantos quartos possuem o imóvel? 3\n",
            "Quantos banheiros possuem no imóvel? 3\n",
            "O Imóvel tem piscina? Digite 1 para sim, 0 para não -> 1\n",
            "Seu imóvel está no Bairro B? Digite 1 para sim, 0 para não -> 1\n",
            "Seu imóvel está no Bairro C? Digite 1 para sim, 0 para não-> 0\n",
            "Você deve vender o imóvel pelo valor de R$ [292188.12].\n"
          ],
          "name": "stdout"
        }
      ]
    },
    {
      "cell_type": "markdown",
      "metadata": {
        "id": "o0Rj64SNcSTz"
      },
      "source": [
        "E ai está a predição do modelo, com base nos dados que foram passados o modelo nos deu o valor que devemos vender o imóvel.\n",
        "\n",
        "Eu acho isso fantástico!!!\n",
        "\n",
        "Bom, isso é apenas a ponta do iceberg, aqui no Python podemos montar desde modelos de Regressão Linear Simples até, sei lá, classificador de imagens para detectar pragas no agronégocio. Sim, tudo com essa linguagem de programação.\n",
        "\n",
        "#**10º Passo - Estudar, Estudar, Estudar e Estudar.**\n",
        "\n",
        "O que eu recomendo, é tirar uma horinha por dia para aprender esta linguagem, pois cedo ou tarde a inteligência artificial pode roubar o seu emprego. Porém não focar apenas em decorar códigos, e sim em saber em que momento utiliza-lo, e se não tiver de cabeça, o google está ai pra isso, junto com a documentação do python ou da própria biblioteca que estiver usando. Foque em resolver problemas, em retirar informações preciosas dos dados, o Python ajuda muito nisso, como mostrei acima, isso a inteligência artificial não vai saber fazer, mas você vai, porque a partir de hoje você vai aprender a manipular os dados e retirar todas as informações que eles têm a te oferecer\n",
        "\n",
        "Os livros que me ajudaram, muito, a aprender análise de dados no python, foram esses dois:\n",
        "\n",
        "![41IbQ4o-e7L._SX357_BO1,204,203,200_.jpg](data:image/jpeg;base64,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)\n",
        "![51NVb0XP2-L._SX357_BO1,204,203,200_.jpg](data:image/jpeg;base64,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)\n",
        "\n",
        "Eu recomendo iniciar no do *Wes McKinney* e depois partir pro do *Daniel Y. Chen*. Pois o do *Wes McKinney* possui um capítulo explicando o básico da linguagem Python antes de entrar com as bibliotecas de análise de dados.\n",
        "\n",
        "Mas o mais importante é colocar a mão na massa, você só vai aprender fazendo!!!\n",
        "\n",
        "Qualquer dúvida podem me chamar, vocês possuem meu telefone no grupo de Econometria ou me chamar pelo meu linkedin que coloquei lá em cima.\n",
        "\n",
        "Obrigado por ter lido até aqui, espero ter ajudo pelo menos a mostrar a pontinha do Iceberg!!!"
      ]
    }
  ]
}